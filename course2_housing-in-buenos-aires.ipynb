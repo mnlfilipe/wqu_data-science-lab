{
 "cells": [
  {
   "cell_type": "markdown",
   "id": "b718edf2",
   "metadata": {},
   "source": [
    "<font size=\"+3\"><strong>2 Housing in Buenos Aires 🇦🇷</strong></font>"
   ]
  },
  {
   "cell_type": "markdown",
   "id": "2d600c17",
   "metadata": {},
   "source": [
    "<font size=\"+2\"><strong>2.5 Predicting Apartment Prices in Mexico City</strong></font>"
   ]
  },
  {
   "cell_type": "markdown",
   "id": "09f1d4af",
   "metadata": {},
   "source": [
    "This notebook resumes the most important things learned in the WorldQuant course 2 - \"Housing in Buenos Aires\". It uses the courses' project \"Predicting Apartment Prices in Mexico City\" since it implements the main ideas learned.\n",
    "\n",
    "In this project, we''ll explore real-world housing data from Buenos Aires, learn essential data wrangling and analysis techniques, and build models to predict property prices.\n",
    "\n",
    "Topics learned in this project:\n",
    "\n",
    "- Load multiple CSV files into a pandas DataFrame\n",
    "- Clean messy data with a <code>wrangle</code> function\n",
    "- Create a machine learning <code>pipeline</code> with feature encoding and imputation\n",
    "- Create insightful visualizations like a Mapbox scatter plot, a heatmap, and a bar chart for model coefficients\n",
    "\n",
    "Imports necessary libraries:"
   ]
  },
  {
   "cell_type": "code",
   "execution_count": 1,
   "id": "aeb96d81",
   "metadata": {},
   "outputs": [],
   "source": [
    "from glob import glob\n",
    "\n",
    "import pandas as pd\n",
    "import numpy as np\n",
    "import seaborn as sns\n",
    "import matplotlib.pyplot as plt\n",
    "import plotly.express as px\n",
    "import plotly.graph_objects as go\n",
    "from category_encoders import OneHotEncoder\n",
    "from sklearn.metrics import mean_absolute_error\n",
    "from sklearn.impute import SimpleImputer\n",
    "from sklearn.linear_model import Ridge\n",
    "from sklearn.pipeline import make_pipeline"
   ]
  },
  {
   "cell_type": "markdown",
   "id": "5eba85d7",
   "metadata": {},
   "source": [
    "## Prepare Data"
   ]
  },
  {
   "cell_type": "markdown",
   "id": "2166dd43",
   "metadata": {},
   "source": [
    "<font size=\"+0.5\"><strong>Low- High- Cardinality</strong></font>\n",
    "\n",
    "If there is only one category in a column, it won't provide any unique information to our model.. At the other extreme, columns where nearly every row has its own unique category won't help our model in identifying useful trends in the data\n",
    "\n",
    "<code>df.select_dtypes(\"object\").nunique()</code> - used to inspect categories in data"
   ]
  },
  {
   "cell_type": "markdown",
   "id": "c507b649",
   "metadata": {},
   "source": [
    "<font size=\"+0.5\"><strong>Leakage</strong></font>\n",
    "\n",
    "Leaky features are features that were created using our target columns or that would give our model information that it would't have access to before it was deployed (eg.,: price per sq meter when our target is house price)"
   ]
  },
  {
   "cell_type": "markdown",
   "id": "1f1c7969",
   "metadata": {},
   "source": [
    "<font size=\"+0.5\"><strong>Multicollinearity</strong></font>\n",
    "\n",
    "Multicollinearity issues arise when we have features in our feafture matrix that are highly correlated with each other.\n",
    "\n",
    "A simple way to detect this correlation is using a heatmap.\n",
    "\n",
    "<code>corr = df.select_dtypes(\"number\").drop(columns=\"target\").corr()</code>\n",
    "<code>sns.heatmap(corr)</code>"
   ]
  },
  {
   "cell_type": "markdown",
   "id": "343f34b0",
   "metadata": {},
   "source": [
    "The following <code>wrangle</code> function is used to clean and prepare the data to be analyzed. It has a file path as input:"
   ]
  },
  {
   "cell_type": "code",
   "execution_count": 2,
   "id": "dcee4fd5",
   "metadata": {},
   "outputs": [],
   "source": [
    "def wrangle(filepath):\n",
    "\n",
    "    df = pd.read_csv(filepath, sep=\";\")\n",
    "\n",
    "    # Subset data: Apartments in \"Distrito Federal\", less that 100,000$\n",
    "    mask_ba = df[\"place_with_parent_names\"].str.contains(\"Distrito Federal\")\n",
    "    mask_ap = df[\"property_type\"] == \"apartment\"\n",
    "    mask_price = df[\"price_aprox_usd\"] < 100_000\n",
    "    df = df[mask_ba & mask_ap & mask_price]\n",
    "\n",
    "    # Remove outliers\n",
    "    low, high = df[\"surface_covered_in_m2\"].quantile([0.1, 0.9])\n",
    "    mask_area = df[\"surface_covered_in_m2\"].between(low, high)\n",
    "    df = df[mask_area]\n",
    "\n",
    "    # Separates lat-lon column\n",
    "    df[[\"lat\", \"lon\"]] = df[\"lat-lon\"].str.split(\",\", expand=True).astype(float)\n",
    "    df = df.drop(columns=\"lat-lon\")\n",
    "\n",
    "    # Creates \"borough\" column\n",
    "    df[\"borough\"] = df[\"place_with_parent_names\"].str.split(\"|\", expand=True)[1]\n",
    "    df = df.drop(columns=\"place_with_parent_names\")\n",
    "\n",
    "    # Drops columns w/ more that 50% null values\n",
    "    mask_null = df.isnull().mean() > 0.5\n",
    "    df = df.drop(columns=df.columns[mask_null])\n",
    "\n",
    "    # Drops columns w/ low- or high- cardinality\n",
    "    df = df.drop(columns=[\n",
    "        \"operation\",\n",
    "        \"property_type\",\n",
    "        \"currency\",\n",
    "        \"properati_url\"\n",
    "    ])\n",
    "\n",
    "    # Drops leaky features\n",
    "    df = df.drop(columns=[\n",
    "        \"price\",\n",
    "        \"price_aprox_local_currency\",\n",
    "        \"price_per_m2\"\n",
    "    ])\n",
    "\n",
    "    return df"
   ]
  },
  {
   "cell_type": "code",
   "execution_count": 3,
   "id": "33e9cdfe",
   "metadata": {},
   "outputs": [
    {
     "data": {
      "text/html": [
       "<div>\n",
       "<style scoped>\n",
       "    .dataframe tbody tr th:only-of-type {\n",
       "        vertical-align: middle;\n",
       "    }\n",
       "\n",
       "    .dataframe tbody tr th {\n",
       "        vertical-align: top;\n",
       "    }\n",
       "\n",
       "    .dataframe thead th {\n",
       "        text-align: right;\n",
       "    }\n",
       "</style>\n",
       "<table border=\"1\" class=\"dataframe\">\n",
       "  <thead>\n",
       "    <tr style=\"text-align: right;\">\n",
       "      <th></th>\n",
       "      <th>price_aprox_usd</th>\n",
       "      <th>surface_covered_in_m2</th>\n",
       "      <th>lat</th>\n",
       "      <th>lon</th>\n",
       "      <th>borough</th>\n",
       "    </tr>\n",
       "  </thead>\n",
       "  <tbody>\n",
       "    <tr>\n",
       "      <th>11</th>\n",
       "      <td>94022.66</td>\n",
       "      <td>57.0</td>\n",
       "      <td>23.634501</td>\n",
       "      <td>-102.552788</td>\n",
       "      <td>Benito Juárez</td>\n",
       "    </tr>\n",
       "    <tr>\n",
       "      <th>20</th>\n",
       "      <td>70880.12</td>\n",
       "      <td>56.0</td>\n",
       "      <td>19.402413</td>\n",
       "      <td>-99.095391</td>\n",
       "      <td>Iztacalco</td>\n",
       "    </tr>\n",
       "    <tr>\n",
       "      <th>21</th>\n",
       "      <td>68228.99</td>\n",
       "      <td>80.0</td>\n",
       "      <td>19.357820</td>\n",
       "      <td>-99.149406</td>\n",
       "      <td>Benito Juárez</td>\n",
       "    </tr>\n",
       "    <tr>\n",
       "      <th>22</th>\n",
       "      <td>24235.78</td>\n",
       "      <td>60.0</td>\n",
       "      <td>19.504985</td>\n",
       "      <td>-99.208557</td>\n",
       "      <td>Azcapotzalco</td>\n",
       "    </tr>\n",
       "    <tr>\n",
       "      <th>26</th>\n",
       "      <td>94140.20</td>\n",
       "      <td>50.0</td>\n",
       "      <td>19.354219</td>\n",
       "      <td>-99.126244</td>\n",
       "      <td>Coyoacán</td>\n",
       "    </tr>\n",
       "  </tbody>\n",
       "</table>\n",
       "</div>"
      ],
      "text/plain": [
       "    price_aprox_usd  surface_covered_in_m2        lat         lon  \\\n",
       "11         94022.66                   57.0  23.634501 -102.552788   \n",
       "20         70880.12                   56.0  19.402413  -99.095391   \n",
       "21         68228.99                   80.0  19.357820  -99.149406   \n",
       "22         24235.78                   60.0  19.504985  -99.208557   \n",
       "26         94140.20                   50.0  19.354219  -99.126244   \n",
       "\n",
       "          borough  \n",
       "11  Benito Juárez  \n",
       "20      Iztacalco  \n",
       "21  Benito Juárez  \n",
       "22   Azcapotzalco  \n",
       "26       Coyoacán  "
      ]
     },
     "execution_count": 3,
     "metadata": {},
     "output_type": "execute_result"
    }
   ],
   "source": [
    "frame1 = wrangle(\"data/mexico-city-real-estate-1.csv\")\n",
    "frame1.head()"
   ]
  },
  {
   "cell_type": "code",
   "execution_count": 17,
   "id": "b7bbc8e2",
   "metadata": {},
   "outputs": [
    {
     "data": {
      "image/png": "[encoded data removed]",
      "text/plain": [
       "<Figure size 640x480 with 2 Axes>"
      ]
     },
     "metadata": {},
     "output_type": "display_data"
    }
   ],
   "source": [
    "corr = frame1.select_dtypes(\"number\").drop(columns=\"price_aprox_usd\").corr()\n",
    "sns.heatmap(corr);"
   ]
  },
  {
   "cell_type": "markdown",
   "id": "80d0f4e8",
   "metadata": {},
   "source": [
    "There are no issues with multicollinearity."
   ]
  },
  {
   "cell_type": "markdown",
   "id": "1467c23c",
   "metadata": {},
   "source": [
    "The <code>glob</code> function creates a list of the filenames given as input:"
   ]
  },
  {
   "cell_type": "code",
   "execution_count": 5,
   "id": "972edc1c",
   "metadata": {},
   "outputs": [
    {
     "data": {
      "text/plain": [
       "['data/mexico-city-real-estate-5.csv',\n",
       " 'data/mexico-city-real-estate-4.csv',\n",
       " 'data/mexico-city-real-estate-1.csv',\n",
       " 'data/mexico-city-real-estate-3.csv',\n",
       " 'data/mexico-city-real-estate-2.csv']"
      ]
     },
     "execution_count": 5,
     "metadata": {},
     "output_type": "execute_result"
    }
   ],
   "source": [
    "files = glob(\"data/mexico-city-real-estate-*.csv\")\n",
    "files"
   ]
  },
  {
   "cell_type": "code",
   "execution_count": 6,
   "id": "753bfad3",
   "metadata": {},
   "outputs": [
    {
     "name": "stdout",
     "output_type": "stream",
     "text": [
      "<class 'pandas.core.frame.DataFrame'>\n",
      "RangeIndex: 5473 entries, 0 to 5472\n",
      "Data columns (total 5 columns):\n",
      " #   Column                 Non-Null Count  Dtype  \n",
      "---  ------                 --------------  -----  \n",
      " 0   price_aprox_usd        5473 non-null   float64\n",
      " 1   surface_covered_in_m2  5473 non-null   float64\n",
      " 2   lat                    5149 non-null   float64\n",
      " 3   lon                    5149 non-null   float64\n",
      " 4   borough                5473 non-null   object \n",
      "dtypes: float64(4), object(1)\n",
      "memory usage: 213.9+ KB\n",
      "None\n"
     ]
    },
    {
     "data": {
      "text/html": [
       "<div>\n",
       "<style scoped>\n",
       "    .dataframe tbody tr th:only-of-type {\n",
       "        vertical-align: middle;\n",
       "    }\n",
       "\n",
       "    .dataframe tbody tr th {\n",
       "        vertical-align: top;\n",
       "    }\n",
       "\n",
       "    .dataframe thead th {\n",
       "        text-align: right;\n",
       "    }\n",
       "</style>\n",
       "<table border=\"1\" class=\"dataframe\">\n",
       "  <thead>\n",
       "    <tr style=\"text-align: right;\">\n",
       "      <th></th>\n",
       "      <th>price_aprox_usd</th>\n",
       "      <th>surface_covered_in_m2</th>\n",
       "      <th>lat</th>\n",
       "      <th>lon</th>\n",
       "      <th>borough</th>\n",
       "    </tr>\n",
       "  </thead>\n",
       "  <tbody>\n",
       "    <tr>\n",
       "      <th>0</th>\n",
       "      <td>82737.39</td>\n",
       "      <td>75.0</td>\n",
       "      <td>19.362690</td>\n",
       "      <td>-99.150565</td>\n",
       "      <td>Benito Juárez</td>\n",
       "    </tr>\n",
       "    <tr>\n",
       "      <th>1</th>\n",
       "      <td>72197.60</td>\n",
       "      <td>62.0</td>\n",
       "      <td>19.291345</td>\n",
       "      <td>-99.124312</td>\n",
       "      <td>Tlalpan</td>\n",
       "    </tr>\n",
       "    <tr>\n",
       "      <th>2</th>\n",
       "      <td>44277.72</td>\n",
       "      <td>85.0</td>\n",
       "      <td>19.354987</td>\n",
       "      <td>-99.061709</td>\n",
       "      <td>Iztapalapa</td>\n",
       "    </tr>\n",
       "    <tr>\n",
       "      <th>3</th>\n",
       "      <td>60589.45</td>\n",
       "      <td>52.0</td>\n",
       "      <td>19.469681</td>\n",
       "      <td>-99.086136</td>\n",
       "      <td>Gustavo A. Madero</td>\n",
       "    </tr>\n",
       "    <tr>\n",
       "      <th>4</th>\n",
       "      <td>47429.08</td>\n",
       "      <td>53.0</td>\n",
       "      <td>19.443592</td>\n",
       "      <td>-99.121407</td>\n",
       "      <td>Venustiano Carranza</td>\n",
       "    </tr>\n",
       "  </tbody>\n",
       "</table>\n",
       "</div>"
      ],
      "text/plain": [
       "   price_aprox_usd  surface_covered_in_m2        lat        lon  \\\n",
       "0         82737.39                   75.0  19.362690 -99.150565   \n",
       "1         72197.60                   62.0  19.291345 -99.124312   \n",
       "2         44277.72                   85.0  19.354987 -99.061709   \n",
       "3         60589.45                   52.0  19.469681 -99.086136   \n",
       "4         47429.08                   53.0  19.443592 -99.121407   \n",
       "\n",
       "               borough  \n",
       "0        Benito Juárez  \n",
       "1              Tlalpan  \n",
       "2           Iztapalapa  \n",
       "3    Gustavo A. Madero  \n",
       "4  Venustiano Carranza  "
      ]
     },
     "execution_count": 6,
     "metadata": {},
     "output_type": "execute_result"
    }
   ],
   "source": [
    "df = pd.concat([wrangle(file) for file in files], ignore_index=True)\n",
    "print(df.info())\n",
    "df.head()"
   ]
  },
  {
   "cell_type": "markdown",
   "id": "c5b2494f",
   "metadata": {},
   "source": [
    "<font size=\"+1.5\"><strong>Explore</strong></font>\n"
   ]
  },
  {
   "cell_type": "code",
   "execution_count": 7,
   "id": "a3339c95",
   "metadata": {},
   "outputs": [
    {
     "data": {
      "image/png": "[encoded data removed]",
      "text/plain": [
       "<Figure size 640x480 with 1 Axes>"
      ]
     },
     "metadata": {},
     "output_type": "display_data"
    }
   ],
   "source": [
    "fig, ax = plt.subplots()\n",
    "\n",
    "ax.hist(df[\"price_aprox_usd\"])\n",
    "\n",
    "ax.set_xlabel(\"Price [$]\")\n",
    "ax.set_ylabel(\"Count\")\n",
    "ax.set_title(\"Distribution of Apartment Prices\");"
   ]
  },
  {
   "cell_type": "code",
   "execution_count": 8,
   "id": "2df7a4db",
   "metadata": {},
   "outputs": [
    {
     "data": {
      "image/png": "[encoded data removed]",
      "text/plain": [
       "<Figure size 640x480 with 1 Axes>"
      ]
     },
     "metadata": {},
     "output_type": "display_data"
    }
   ],
   "source": [
    "fig, ax = plt.subplots()\n",
    "\n",
    "ax.scatter(x=df[\"surface_covered_in_m2\"], y=df[\"price_aprox_usd\"])\n",
    "\n",
    "ax.set_xlabel(\"Area [sq meters]\")\n",
    "ax.set_ylabel(\"Price [USD]\")\n",
    "ax.set_title(\"Mexico City: Price vs. Area\");"
   ]
  },
  {
   "cell_type": "code",
   "execution_count": 9,
   "id": "fe799228",
   "metadata": {},
   "outputs": [
    {
     "data": {
      "application/vnd.plotly.v1+json": {
       "config": {
        "plotlyServerURL": "https://plot.ly"
       },
       "data": [
        {
         "customdata": {
          "bdata": "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",
          "dtype": "f8",
          "shape": "5473, 1"
         },
         "hovertemplate": "lat=%{lat}<br>lon=%{lon}<br>price_aprox_usd=%{marker.color}<extra></extra>",
         "lat": {
          "bdata": "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",
          "dtype": "f8"
         },
         "legendgroup": "",
         "lon": {
          "bdata": "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",
          "dtype": "f8"
         },
         "marker": {
          "color": {
           "bdata": "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",
           "dtype": "f8"
          },
          "coloraxis": "coloraxis"
         },
         "mode": "markers",
         "name": "",
         "showlegend": false,
         "subplot": "map",
         "type": "scattermap"
        }
       ],
       "layout": {
        "coloraxis": {
         "colorbar": {
          "title": {
           "text": "price_aprox_usd"
          }
         },
         "colorscale": [
          [
           0,
           "#0d0887"
          ],
          [
           0.1111111111111111,
           "#46039f"
          ],
          [
           0.2222222222222222,
           "#7201a8"
          ],
          [
           0.3333333333333333,
           "#9c179e"
          ],
          [
           0.4444444444444444,
           "#bd3786"
          ],
          [
           0.5555555555555556,
           "#d8576b"
          ],
          [
           0.6666666666666666,
           "#ed7953"
          ],
          [
           0.7777777777777778,
           "#fb9f3a"
          ],
          [
           0.8888888888888888,
           "#fdca26"
          ],
          [
           1,
           "#f0f921"
          ]
         ]
        },
        "height": 600,
        "legend": {
         "tracegroupgap": 0
        },
        "map": {
         "center": {
          "lat": 19.453112303462014,
          "lon": -99.18206441739316
         },
         "domain": {
          "x": [
           0,
           1
          ],
          "y": [
           0,
           1
          ]
         },
         "zoom": 8
        },
        "mapbox": {
         "center": {
          "lat": 19.453112303462014,
          "lon": -99.18206441739316
         },
         "style": "open_street_map",
         "zoom": 8
        },
        "margin": {
         "t": 60
        },
        "template": {
         "data": {
          "bar": [
           {
            "error_x": {
             "color": "#2a3f5f"
            },
            "error_y": {
             "color": "#2a3f5f"
            },
            "marker": {
             "line": {
              "color": "#E5ECF6",
              "width": 0.5
             },
             "pattern": {
              "fillmode": "overlay",
              "size": 10,
              "solidity": 0.2
             }
            },
            "type": "bar"
           }
          ],
          "barpolar": [
           {
            "marker": {
             "line": {
              "color": "#E5ECF6",
              "width": 0.5
             },
             "pattern": {
              "fillmode": "overlay",
              "size": 10,
              "solidity": 0.2
             }
            },
            "type": "barpolar"
           }
          ],
          "carpet": [
           {
            "aaxis": {
             "endlinecolor": "#2a3f5f",
             "gridcolor": "white",
             "linecolor": "white",
             "minorgridcolor": "white",
             "startlinecolor": "#2a3f5f"
            },
            "baxis": {
             "endlinecolor": "#2a3f5f",
             "gridcolor": "white",
             "linecolor": "white",
             "minorgridcolor": "white",
             "startlinecolor": "#2a3f5f"
            },
            "type": "carpet"
           }
          ],
          "choropleth": [
           {
            "colorbar": {
             "outlinewidth": 0,
             "ticks": ""
            },
            "type": "choropleth"
           }
          ],
          "contour": [
           {
            "colorbar": {
             "outlinewidth": 0,
             "ticks": ""
            },
            "colorscale": [
             [
              0,
              "#0d0887"
             ],
             [
              0.1111111111111111,
              "#46039f"
             ],
             [
              0.2222222222222222,
              "#7201a8"
             ],
             [
              0.3333333333333333,
              "#9c179e"
             ],
             [
              0.4444444444444444,
              "#bd3786"
             ],
             [
              0.5555555555555556,
              "#d8576b"
             ],
             [
              0.6666666666666666,
              "#ed7953"
             ],
             [
              0.7777777777777778,
              "#fb9f3a"
             ],
             [
              0.8888888888888888,
              "#fdca26"
             ],
             [
              1,
              "#f0f921"
             ]
            ],
            "type": "contour"
           }
          ],
          "contourcarpet": [
           {
            "colorbar": {
             "outlinewidth": 0,
             "ticks": ""
            },
            "type": "contourcarpet"
           }
          ],
          "heatmap": [
           {
            "colorbar": {
             "outlinewidth": 0,
             "ticks": ""
            },
            "colorscale": [
             [
              0,
              "#0d0887"
             ],
             [
              0.1111111111111111,
              "#46039f"
             ],
             [
              0.2222222222222222,
              "#7201a8"
             ],
             [
              0.3333333333333333,
              "#9c179e"
             ],
             [
              0.4444444444444444,
              "#bd3786"
             ],
             [
              0.5555555555555556,
              "#d8576b"
             ],
             [
              0.6666666666666666,
              "#ed7953"
             ],
             [
              0.7777777777777778,
              "#fb9f3a"
             ],
             [
              0.8888888888888888,
              "#fdca26"
             ],
             [
              1,
              "#f0f921"
             ]
            ],
            "type": "heatmap"
           }
          ],
          "histogram": [
           {
            "marker": {
             "pattern": {
              "fillmode": "overlay",
              "size": 10,
              "solidity": 0.2
             }
            },
            "type": "histogram"
           }
          ],
          "histogram2d": [
           {
            "colorbar": {
             "outlinewidth": 0,
             "ticks": ""
            },
            "colorscale": [
             [
              0,
              "#0d0887"
             ],
             [
              0.1111111111111111,
              "#46039f"
             ],
             [
              0.2222222222222222,
              "#7201a8"
             ],
             [
              0.3333333333333333,
              "#9c179e"
             ],
             [
              0.4444444444444444,
              "#bd3786"
             ],
             [
              0.5555555555555556,
              "#d8576b"
             ],
             [
              0.6666666666666666,
              "#ed7953"
             ],
             [
              0.7777777777777778,
              "#fb9f3a"
             ],
             [
              0.8888888888888888,
              "#fdca26"
             ],
             [
              1,
              "#f0f921"
             ]
            ],
            "type": "histogram2d"
           }
          ],
          "histogram2dcontour": [
           {
            "colorbar": {
             "outlinewidth": 0,
             "ticks": ""
            },
            "colorscale": [
             [
              0,
              "#0d0887"
             ],
             [
              0.1111111111111111,
              "#46039f"
             ],
             [
              0.2222222222222222,
              "#7201a8"
             ],
             [
              0.3333333333333333,
              "#9c179e"
             ],
             [
              0.4444444444444444,
              "#bd3786"
             ],
             [
              0.5555555555555556,
              "#d8576b"
             ],
             [
              0.6666666666666666,
              "#ed7953"
             ],
             [
              0.7777777777777778,
              "#fb9f3a"
             ],
             [
              0.8888888888888888,
              "#fdca26"
             ],
             [
              1,
              "#f0f921"
             ]
            ],
            "type": "histogram2dcontour"
           }
          ],
          "mesh3d": [
           {
            "colorbar": {
             "outlinewidth": 0,
             "ticks": ""
            },
            "type": "mesh3d"
           }
          ],
          "parcoords": [
           {
            "line": {
             "colorbar": {
              "outlinewidth": 0,
              "ticks": ""
             }
            },
            "type": "parcoords"
           }
          ],
          "pie": [
           {
            "automargin": true,
            "type": "pie"
           }
          ],
          "scatter": [
           {
            "fillpattern": {
             "fillmode": "overlay",
             "size": 10,
             "solidity": 0.2
            },
            "type": "scatter"
           }
          ],
          "scatter3d": [
           {
            "line": {
             "colorbar": {
              "outlinewidth": 0,
              "ticks": ""
             }
            },
            "marker": {
             "colorbar": {
              "outlinewidth": 0,
              "ticks": ""
             }
            },
            "type": "scatter3d"
           }
          ],
          "scattercarpet": [
           {
            "marker": {
             "colorbar": {
              "outlinewidth": 0,
              "ticks": ""
             }
            },
            "type": "scattercarpet"
           }
          ],
          "scattergeo": [
           {
            "marker": {
             "colorbar": {
              "outlinewidth": 0,
              "ticks": ""
             }
            },
            "type": "scattergeo"
           }
          ],
          "scattergl": [
           {
            "marker": {
             "colorbar": {
              "outlinewidth": 0,
              "ticks": ""
             }
            },
            "type": "scattergl"
           }
          ],
          "scattermap": [
           {
            "marker": {
             "colorbar": {
              "outlinewidth": 0,
              "ticks": ""
             }
            },
            "type": "scattermap"
           }
          ],
          "scattermapbox": [
           {
            "marker": {
             "colorbar": {
              "outlinewidth": 0,
              "ticks": ""
             }
            },
            "type": "scattermapbox"
           }
          ],
          "scatterpolar": [
           {
            "marker": {
             "colorbar": {
              "outlinewidth": 0,
              "ticks": ""
             }
            },
            "type": "scatterpolar"
           }
          ],
          "scatterpolargl": [
           {
            "marker": {
             "colorbar": {
              "outlinewidth": 0,
              "ticks": ""
             }
            },
            "type": "scatterpolargl"
           }
          ],
          "scatterternary": [
           {
            "marker": {
             "colorbar": {
              "outlinewidth": 0,
              "ticks": ""
             }
            },
            "type": "scatterternary"
           }
          ],
          "surface": [
           {
            "colorbar": {
             "outlinewidth": 0,
             "ticks": ""
            },
            "colorscale": [
             [
              0,
              "#0d0887"
             ],
             [
              0.1111111111111111,
              "#46039f"
             ],
             [
              0.2222222222222222,
              "#7201a8"
             ],
             [
              0.3333333333333333,
              "#9c179e"
             ],
             [
              0.4444444444444444,
              "#bd3786"
             ],
             [
              0.5555555555555556,
              "#d8576b"
             ],
             [
              0.6666666666666666,
              "#ed7953"
             ],
             [
              0.7777777777777778,
              "#fb9f3a"
             ],
             [
              0.8888888888888888,
              "#fdca26"
             ],
             [
              1,
              "#f0f921"
             ]
            ],
            "type": "surface"
           }
          ],
          "table": [
           {
            "cells": {
             "fill": {
              "color": "#EBF0F8"
             },
             "line": {
              "color": "white"
             }
            },
            "header": {
             "fill": {
              "color": "#C8D4E3"
             },
             "line": {
              "color": "white"
             }
            },
            "type": "table"
           }
          ]
         },
         "layout": {
          "annotationdefaults": {
           "arrowcolor": "#2a3f5f",
           "arrowhead": 0,
           "arrowwidth": 1
          },
          "autotypenumbers": "strict",
          "coloraxis": {
           "colorbar": {
            "outlinewidth": 0,
            "ticks": ""
           }
          },
          "colorscale": {
           "diverging": [
            [
             0,
             "#8e0152"
            ],
            [
             0.1,
             "#c51b7d"
            ],
            [
             0.2,
             "#de77ae"
            ],
            [
             0.3,
             "#f1b6da"
            ],
            [
             0.4,
             "#fde0ef"
            ],
            [
             0.5,
             "#f7f7f7"
            ],
            [
             0.6,
             "#e6f5d0"
            ],
            [
             0.7,
             "#b8e186"
            ],
            [
             0.8,
             "#7fbc41"
            ],
            [
             0.9,
             "#4d9221"
            ],
            [
             1,
             "#276419"
            ]
           ],
           "sequential": [
            [
             0,
             "#0d0887"
            ],
            [
             0.1111111111111111,
             "#46039f"
            ],
            [
             0.2222222222222222,
             "#7201a8"
            ],
            [
             0.3333333333333333,
             "#9c179e"
            ],
            [
             0.4444444444444444,
             "#bd3786"
            ],
            [
             0.5555555555555556,
             "#d8576b"
            ],
            [
             0.6666666666666666,
             "#ed7953"
            ],
            [
             0.7777777777777778,
             "#fb9f3a"
            ],
            [
             0.8888888888888888,
             "#fdca26"
            ],
            [
             1,
             "#f0f921"
            ]
           ],
           "sequentialminus": [
            [
             0,
             "#0d0887"
            ],
            [
             0.1111111111111111,
             "#46039f"
            ],
            [
             0.2222222222222222,
             "#7201a8"
            ],
            [
             0.3333333333333333,
             "#9c179e"
            ],
            [
             0.4444444444444444,
             "#bd3786"
            ],
            [
             0.5555555555555556,
             "#d8576b"
            ],
            [
             0.6666666666666666,
             "#ed7953"
            ],
            [
             0.7777777777777778,
             "#fb9f3a"
            ],
            [
             0.8888888888888888,
             "#fdca26"
            ],
            [
             1,
             "#f0f921"
            ]
           ]
          },
          "colorway": [
           "#636efa",
           "#EF553B",
           "#00cc96",
           "#ab63fa",
           "#FFA15A",
           "#19d3f3",
           "#FF6692",
           "#B6E880",
           "#FF97FF",
           "#FECB52"
          ],
          "font": {
           "color": "#2a3f5f"
          },
          "geo": {
           "bgcolor": "white",
           "lakecolor": "white",
           "landcolor": "#E5ECF6",
           "showlakes": true,
           "showland": true,
           "subunitcolor": "white"
          },
          "hoverlabel": {
           "align": "left"
          },
          "hovermode": "closest",
          "mapbox": {
           "style": "light"
          },
          "paper_bgcolor": "white",
          "plot_bgcolor": "#E5ECF6",
          "polar": {
           "angularaxis": {
            "gridcolor": "white",
            "linecolor": "white",
            "ticks": ""
           },
           "bgcolor": "#E5ECF6",
           "radialaxis": {
            "gridcolor": "white",
            "linecolor": "white",
            "ticks": ""
           }
          },
          "scene": {
           "xaxis": {
            "backgroundcolor": "#E5ECF6",
            "gridcolor": "white",
            "gridwidth": 2,
            "linecolor": "white",
            "showbackground": true,
            "ticks": "",
            "zerolinecolor": "white"
           },
           "yaxis": {
            "backgroundcolor": "#E5ECF6",
            "gridcolor": "white",
            "gridwidth": 2,
            "linecolor": "white",
            "showbackground": true,
            "ticks": "",
            "zerolinecolor": "white"
           },
           "zaxis": {
            "backgroundcolor": "#E5ECF6",
            "gridcolor": "white",
            "gridwidth": 2,
            "linecolor": "white",
            "showbackground": true,
            "ticks": "",
            "zerolinecolor": "white"
           }
          },
          "shapedefaults": {
           "line": {
            "color": "#2a3f5f"
           }
          },
          "ternary": {
           "aaxis": {
            "gridcolor": "white",
            "linecolor": "white",
            "ticks": ""
           },
           "baxis": {
            "gridcolor": "white",
            "linecolor": "white",
            "ticks": ""
           },
           "bgcolor": "#E5ECF6",
           "caxis": {
            "gridcolor": "white",
            "linecolor": "white",
            "ticks": ""
           }
          },
          "title": {
           "x": 0.05
          },
          "xaxis": {
           "automargin": true,
           "gridcolor": "white",
           "linecolor": "white",
           "ticks": "",
           "title": {
            "standoff": 15
           },
           "zerolinecolor": "white",
           "zerolinewidth": 2
          },
          "yaxis": {
           "automargin": true,
           "gridcolor": "white",
           "linecolor": "white",
           "ticks": "",
           "title": {
            "standoff": 15
           },
           "zerolinecolor": "white",
           "zerolinewidth": 2
          }
         }
        },
        "width": 600
       }
      }
     },
     "metadata": {},
     "output_type": "display_data"
    }
   ],
   "source": [
    "fig = px.scatter_map(\n",
    "    df,\n",
    "    lat=\"lat\",\n",
    "    lon=\"lon\",\n",
    "    width=600,\n",
    "    height=600,\n",
    "    color=\"price_aprox_usd\",\n",
    "    hover_data=[\"price_aprox_usd\"] # display price when hovering mouse over house point\n",
    ")\n",
    "\n",
    "fig.update_layout(mapbox_style=\"open_street_map\")\n",
    "fig.show();"
   ]
  },
  {
   "cell_type": "markdown",
   "id": "be575dcc",
   "metadata": {},
   "source": [
    "<font size=\"+1.5\"><strong>Split</strong></font>\n"
   ]
  },
  {
   "cell_type": "code",
   "execution_count": 10,
   "id": "15954241",
   "metadata": {},
   "outputs": [],
   "source": [
    "# Split data into feature matrix \"X_train\" and target vector \"y_train\"\n",
    "\n",
    "X_train = df.drop(columns=\"price_aprox_usd\")\n",
    "y_train = df[\"price_aprox_usd\"]"
   ]
  },
  {
   "cell_type": "markdown",
   "id": "8c9cc8b8",
   "metadata": {},
   "source": [
    "## Build Model"
   ]
  },
  {
   "cell_type": "markdown",
   "id": "17f73e20",
   "metadata": {},
   "source": [
    "<font size=\"+1.5\"><strong>Baseline</strong></font>\n"
   ]
  },
  {
   "cell_type": "markdown",
   "id": "cda79217",
   "metadata": {},
   "source": [
    "The first step in building a model is baselining. Some people call this a naive or baseline model, but it's always a model that makes only a prediction - in this case, it predicts the same price regardless of an apartment's size. It is used to calculate the baseline mean absolute error (MEA)"
   ]
  },
  {
   "cell_type": "code",
   "execution_count": 11,
   "id": "96e59971",
   "metadata": {},
   "outputs": [
    {
     "name": "stdout",
     "output_type": "stream",
     "text": [
      "Mean apt price: 54246.53\n",
      "Baseline MAE 17239.94\n"
     ]
    }
   ],
   "source": [
    "y_mean = y_train.mean()\n",
    "y_pred_baseline = [y_mean] * len(y_train)\n",
    "baseline_mae = mean_absolute_error(y_train, y_pred_baseline)\n",
    "print(\"Mean apt price:\", round(y_mean, 2))\n",
    "print(\"Baseline MAE\", round(baseline_mae, 2))"
   ]
  },
  {
   "cell_type": "markdown",
   "id": "8bbdc733",
   "metadata": {},
   "source": [
    "<font size=\"+1.5\"><strong>Transformers</strong></font>\n"
   ]
  },
  {
   "cell_type": "markdown",
   "id": "63721068",
   "metadata": {},
   "source": [
    "<font size=\"+0.5\"><strong>Imputation</strong></font>\n",
    "\n",
    "We can simply drop rowns that contain NaN vakues, however this isn't ideal. Models generally perform better when they have more data to train with, so every row is precious. Instead, we can fill in the missing values using information we get from the whole column - a process called <strong>imputation</strong>.\n",
    "\n",
    "There are many different strategies for imputing missing values, and one of the most common ones is filling in the missing values with the mean value of the column.\n",
    "\n",
    "In addition to predictors like <code>LinearRegression()</code>, scikit-learn also has transformers that help us deal with issues like missing values.\n",
    "\n",
    "Just like a predictor, a transformer has a fit method. In the case of our <code>SimpleImputer</code>, this is the step where it calculates the mean values for each numerical column.\n"
   ]
  },
  {
   "cell_type": "markdown",
   "id": "bee83d27",
   "metadata": {},
   "source": [
    "<font size=\"+0.5\"><strong>Encode</strong></font>\n",
    "\n",
    "<code>OneHotEncoder</code> is a transformer used to handle categorical input features by converting them into binary columns, so they can be used in a linear equation.\n"
   ]
  },
  {
   "cell_type": "markdown",
   "id": "17ef4c6c",
   "metadata": {},
   "source": [
    "<font size=\"+1.5\"><strong>Iterate</strong></font>\n"
   ]
  },
  {
   "cell_type": "markdown",
   "id": "2eff4983",
   "metadata": {},
   "source": [
    "A model may require multiple transformers, and doing all those transformations one-by-one is slow and likely to lead to errors. Instead, we can combine our transformer and predictor into a single object called a <code>pipeline</code>."
   ]
  },
  {
   "cell_type": "code",
   "execution_count": 12,
   "id": "bce49771",
   "metadata": {},
   "outputs": [
    {
     "data": {
      "text/html": [
       "<style>#sk-container-id-1 {\n",
       "  /* Definition of color scheme common for light and dark mode */\n",
       "  --sklearn-color-text: #000;\n",
       "  --sklearn-color-text-muted: #666;\n",
       "  --sklearn-color-line: gray;\n",
       "  /* Definition of color scheme for unfitted estimators */\n",
       "  --sklearn-color-unfitted-level-0: #fff5e6;\n",
       "  --sklearn-color-unfitted-level-1: #f6e4d2;\n",
       "  --sklearn-color-unfitted-level-2: #ffe0b3;\n",
       "  --sklearn-color-unfitted-level-3: chocolate;\n",
       "  /* Definition of color scheme for fitted estimators */\n",
       "  --sklearn-color-fitted-level-0: #f0f8ff;\n",
       "  --sklearn-color-fitted-level-1: #d4ebff;\n",
       "  --sklearn-color-fitted-level-2: #b3dbfd;\n",
       "  --sklearn-color-fitted-level-3: cornflowerblue;\n",
       "\n",
       "  /* Specific color for light theme */\n",
       "  --sklearn-color-text-on-default-background: var(--sg-text-color, var(--theme-code-foreground, var(--jp-content-font-color1, black)));\n",
       "  --sklearn-color-background: var(--sg-background-color, var(--theme-background, var(--jp-layout-color0, white)));\n",
       "  --sklearn-color-border-box: var(--sg-text-color, var(--theme-code-foreground, var(--jp-content-font-color1, black)));\n",
       "  --sklearn-color-icon: #696969;\n",
       "\n",
       "  @media (prefers-color-scheme: dark) {\n",
       "    /* Redefinition of color scheme for dark theme */\n",
       "    --sklearn-color-text-on-default-background: var(--sg-text-color, var(--theme-code-foreground, var(--jp-content-font-color1, white)));\n",
       "    --sklearn-color-background: var(--sg-background-color, var(--theme-background, var(--jp-layout-color0, #111)));\n",
       "    --sklearn-color-border-box: var(--sg-text-color, var(--theme-code-foreground, var(--jp-content-font-color1, white)));\n",
       "    --sklearn-color-icon: #878787;\n",
       "  }\n",
       "}\n",
       "\n",
       "#sk-container-id-1 {\n",
       "  color: var(--sklearn-color-text);\n",
       "}\n",
       "\n",
       "#sk-container-id-1 pre {\n",
       "  padding: 0;\n",
       "}\n",
       "\n",
       "#sk-container-id-1 input.sk-hidden--visually {\n",
       "  border: 0;\n",
       "  clip: rect(1px 1px 1px 1px);\n",
       "  clip: rect(1px, 1px, 1px, 1px);\n",
       "  height: 1px;\n",
       "  margin: -1px;\n",
       "  overflow: hidden;\n",
       "  padding: 0;\n",
       "  position: absolute;\n",
       "  width: 1px;\n",
       "}\n",
       "\n",
       "#sk-container-id-1 div.sk-dashed-wrapped {\n",
       "  border: 1px dashed var(--sklearn-color-line);\n",
       "  margin: 0 0.4em 0.5em 0.4em;\n",
       "  box-sizing: border-box;\n",
       "  padding-bottom: 0.4em;\n",
       "  background-color: var(--sklearn-color-background);\n",
       "}\n",
       "\n",
       "#sk-container-id-1 div.sk-container {\n",
       "  /* jupyter's `normalize.less` sets `[hidden] { display: none; }`\n",
       "     but bootstrap.min.css set `[hidden] { display: none !important; }`\n",
       "     so we also need the `!important` here to be able to override the\n",
       "     default hidden behavior on the sphinx rendered scikit-learn.org.\n",
       "     See: https://github.com/scikit-learn/scikit-learn/issues/21755 */\n",
       "  display: inline-block !important;\n",
       "  position: relative;\n",
       "}\n",
       "\n",
       "#sk-container-id-1 div.sk-text-repr-fallback {\n",
       "  display: none;\n",
       "}\n",
       "\n",
       "div.sk-parallel-item,\n",
       "div.sk-serial,\n",
       "div.sk-item {\n",
       "  /* draw centered vertical line to link estimators */\n",
       "  background-image: linear-gradient(var(--sklearn-color-text-on-default-background), var(--sklearn-color-text-on-default-background));\n",
       "  background-size: 2px 100%;\n",
       "  background-repeat: no-repeat;\n",
       "  background-position: center center;\n",
       "}\n",
       "\n",
       "/* Parallel-specific style estimator block */\n",
       "\n",
       "#sk-container-id-1 div.sk-parallel-item::after {\n",
       "  content: \"\";\n",
       "  width: 100%;\n",
       "  border-bottom: 2px solid var(--sklearn-color-text-on-default-background);\n",
       "  flex-grow: 1;\n",
       "}\n",
       "\n",
       "#sk-container-id-1 div.sk-parallel {\n",
       "  display: flex;\n",
       "  align-items: stretch;\n",
       "  justify-content: center;\n",
       "  background-color: var(--sklearn-color-background);\n",
       "  position: relative;\n",
       "}\n",
       "\n",
       "#sk-container-id-1 div.sk-parallel-item {\n",
       "  display: flex;\n",
       "  flex-direction: column;\n",
       "}\n",
       "\n",
       "#sk-container-id-1 div.sk-parallel-item:first-child::after {\n",
       "  align-self: flex-end;\n",
       "  width: 50%;\n",
       "}\n",
       "\n",
       "#sk-container-id-1 div.sk-parallel-item:last-child::after {\n",
       "  align-self: flex-start;\n",
       "  width: 50%;\n",
       "}\n",
       "\n",
       "#sk-container-id-1 div.sk-parallel-item:only-child::after {\n",
       "  width: 0;\n",
       "}\n",
       "\n",
       "/* Serial-specific style estimator block */\n",
       "\n",
       "#sk-container-id-1 div.sk-serial {\n",
       "  display: flex;\n",
       "  flex-direction: column;\n",
       "  align-items: center;\n",
       "  background-color: var(--sklearn-color-background);\n",
       "  padding-right: 1em;\n",
       "  padding-left: 1em;\n",
       "}\n",
       "\n",
       "\n",
       "/* Toggleable style: style used for estimator/Pipeline/ColumnTransformer box that is\n",
       "clickable and can be expanded/collapsed.\n",
       "- Pipeline and ColumnTransformer use this feature and define the default style\n",
       "- Estimators will overwrite some part of the style using the `sk-estimator` class\n",
       "*/\n",
       "\n",
       "/* Pipeline and ColumnTransformer style (default) */\n",
       "\n",
       "#sk-container-id-1 div.sk-toggleable {\n",
       "  /* Default theme specific background. It is overwritten whether we have a\n",
       "  specific estimator or a Pipeline/ColumnTransformer */\n",
       "  background-color: var(--sklearn-color-background);\n",
       "}\n",
       "\n",
       "/* Toggleable label */\n",
       "#sk-container-id-1 label.sk-toggleable__label {\n",
       "  cursor: pointer;\n",
       "  display: flex;\n",
       "  width: 100%;\n",
       "  margin-bottom: 0;\n",
       "  padding: 0.5em;\n",
       "  box-sizing: border-box;\n",
       "  text-align: center;\n",
       "  align-items: start;\n",
       "  justify-content: space-between;\n",
       "  gap: 0.5em;\n",
       "}\n",
       "\n",
       "#sk-container-id-1 label.sk-toggleable__label .caption {\n",
       "  font-size: 0.6rem;\n",
       "  font-weight: lighter;\n",
       "  color: var(--sklearn-color-text-muted);\n",
       "}\n",
       "\n",
       "#sk-container-id-1 label.sk-toggleable__label-arrow:before {\n",
       "  /* Arrow on the left of the label */\n",
       "  content: \"▸\";\n",
       "  float: left;\n",
       "  margin-right: 0.25em;\n",
       "  color: var(--sklearn-color-icon);\n",
       "}\n",
       "\n",
       "#sk-container-id-1 label.sk-toggleable__label-arrow:hover:before {\n",
       "  color: var(--sklearn-color-text);\n",
       "}\n",
       "\n",
       "/* Toggleable content - dropdown */\n",
       "\n",
       "#sk-container-id-1 div.sk-toggleable__content {\n",
       "  display: none;\n",
       "  text-align: left;\n",
       "  /* unfitted */\n",
       "  background-color: var(--sklearn-color-unfitted-level-0);\n",
       "}\n",
       "\n",
       "#sk-container-id-1 div.sk-toggleable__content.fitted {\n",
       "  /* fitted */\n",
       "  background-color: var(--sklearn-color-fitted-level-0);\n",
       "}\n",
       "\n",
       "#sk-container-id-1 div.sk-toggleable__content pre {\n",
       "  margin: 0.2em;\n",
       "  border-radius: 0.25em;\n",
       "  color: var(--sklearn-color-text);\n",
       "  /* unfitted */\n",
       "  background-color: var(--sklearn-color-unfitted-level-0);\n",
       "}\n",
       "\n",
       "#sk-container-id-1 div.sk-toggleable__content.fitted pre {\n",
       "  /* unfitted */\n",
       "  background-color: var(--sklearn-color-fitted-level-0);\n",
       "}\n",
       "\n",
       "#sk-container-id-1 input.sk-toggleable__control:checked~div.sk-toggleable__content {\n",
       "  /* Expand drop-down */\n",
       "  display: block;\n",
       "  width: 100%;\n",
       "  overflow: visible;\n",
       "}\n",
       "\n",
       "#sk-container-id-1 input.sk-toggleable__control:checked~label.sk-toggleable__label-arrow:before {\n",
       "  content: \"▾\";\n",
       "}\n",
       "\n",
       "/* Pipeline/ColumnTransformer-specific style */\n",
       "\n",
       "#sk-container-id-1 div.sk-label input.sk-toggleable__control:checked~label.sk-toggleable__label {\n",
       "  color: var(--sklearn-color-text);\n",
       "  background-color: var(--sklearn-color-unfitted-level-2);\n",
       "}\n",
       "\n",
       "#sk-container-id-1 div.sk-label.fitted input.sk-toggleable__control:checked~label.sk-toggleable__label {\n",
       "  background-color: var(--sklearn-color-fitted-level-2);\n",
       "}\n",
       "\n",
       "/* Estimator-specific style */\n",
       "\n",
       "/* Colorize estimator box */\n",
       "#sk-container-id-1 div.sk-estimator input.sk-toggleable__control:checked~label.sk-toggleable__label {\n",
       "  /* unfitted */\n",
       "  background-color: var(--sklearn-color-unfitted-level-2);\n",
       "}\n",
       "\n",
       "#sk-container-id-1 div.sk-estimator.fitted input.sk-toggleable__control:checked~label.sk-toggleable__label {\n",
       "  /* fitted */\n",
       "  background-color: var(--sklearn-color-fitted-level-2);\n",
       "}\n",
       "\n",
       "#sk-container-id-1 div.sk-label label.sk-toggleable__label,\n",
       "#sk-container-id-1 div.sk-label label {\n",
       "  /* The background is the default theme color */\n",
       "  color: var(--sklearn-color-text-on-default-background);\n",
       "}\n",
       "\n",
       "/* On hover, darken the color of the background */\n",
       "#sk-container-id-1 div.sk-label:hover label.sk-toggleable__label {\n",
       "  color: var(--sklearn-color-text);\n",
       "  background-color: var(--sklearn-color-unfitted-level-2);\n",
       "}\n",
       "\n",
       "/* Label box, darken color on hover, fitted */\n",
       "#sk-container-id-1 div.sk-label.fitted:hover label.sk-toggleable__label.fitted {\n",
       "  color: var(--sklearn-color-text);\n",
       "  background-color: var(--sklearn-color-fitted-level-2);\n",
       "}\n",
       "\n",
       "/* Estimator label */\n",
       "\n",
       "#sk-container-id-1 div.sk-label label {\n",
       "  font-family: monospace;\n",
       "  font-weight: bold;\n",
       "  display: inline-block;\n",
       "  line-height: 1.2em;\n",
       "}\n",
       "\n",
       "#sk-container-id-1 div.sk-label-container {\n",
       "  text-align: center;\n",
       "}\n",
       "\n",
       "/* Estimator-specific */\n",
       "#sk-container-id-1 div.sk-estimator {\n",
       "  font-family: monospace;\n",
       "  border: 1px dotted var(--sklearn-color-border-box);\n",
       "  border-radius: 0.25em;\n",
       "  box-sizing: border-box;\n",
       "  margin-bottom: 0.5em;\n",
       "  /* unfitted */\n",
       "  background-color: var(--sklearn-color-unfitted-level-0);\n",
       "}\n",
       "\n",
       "#sk-container-id-1 div.sk-estimator.fitted {\n",
       "  /* fitted */\n",
       "  background-color: var(--sklearn-color-fitted-level-0);\n",
       "}\n",
       "\n",
       "/* on hover */\n",
       "#sk-container-id-1 div.sk-estimator:hover {\n",
       "  /* unfitted */\n",
       "  background-color: var(--sklearn-color-unfitted-level-2);\n",
       "}\n",
       "\n",
       "#sk-container-id-1 div.sk-estimator.fitted:hover {\n",
       "  /* fitted */\n",
       "  background-color: var(--sklearn-color-fitted-level-2);\n",
       "}\n",
       "\n",
       "/* Specification for estimator info (e.g. \"i\" and \"?\") */\n",
       "\n",
       "/* Common style for \"i\" and \"?\" */\n",
       "\n",
       ".sk-estimator-doc-link,\n",
       "a:link.sk-estimator-doc-link,\n",
       "a:visited.sk-estimator-doc-link {\n",
       "  float: right;\n",
       "  font-size: smaller;\n",
       "  line-height: 1em;\n",
       "  font-family: monospace;\n",
       "  background-color: var(--sklearn-color-background);\n",
       "  border-radius: 1em;\n",
       "  height: 1em;\n",
       "  width: 1em;\n",
       "  text-decoration: none !important;\n",
       "  margin-left: 0.5em;\n",
       "  text-align: center;\n",
       "  /* unfitted */\n",
       "  border: var(--sklearn-color-unfitted-level-1) 1pt solid;\n",
       "  color: var(--sklearn-color-unfitted-level-1);\n",
       "}\n",
       "\n",
       ".sk-estimator-doc-link.fitted,\n",
       "a:link.sk-estimator-doc-link.fitted,\n",
       "a:visited.sk-estimator-doc-link.fitted {\n",
       "  /* fitted */\n",
       "  border: var(--sklearn-color-fitted-level-1) 1pt solid;\n",
       "  color: var(--sklearn-color-fitted-level-1);\n",
       "}\n",
       "\n",
       "/* On hover */\n",
       "div.sk-estimator:hover .sk-estimator-doc-link:hover,\n",
       ".sk-estimator-doc-link:hover,\n",
       "div.sk-label-container:hover .sk-estimator-doc-link:hover,\n",
       ".sk-estimator-doc-link:hover {\n",
       "  /* unfitted */\n",
       "  background-color: var(--sklearn-color-unfitted-level-3);\n",
       "  color: var(--sklearn-color-background);\n",
       "  text-decoration: none;\n",
       "}\n",
       "\n",
       "div.sk-estimator.fitted:hover .sk-estimator-doc-link.fitted:hover,\n",
       ".sk-estimator-doc-link.fitted:hover,\n",
       "div.sk-label-container:hover .sk-estimator-doc-link.fitted:hover,\n",
       ".sk-estimator-doc-link.fitted:hover {\n",
       "  /* fitted */\n",
       "  background-color: var(--sklearn-color-fitted-level-3);\n",
       "  color: var(--sklearn-color-background);\n",
       "  text-decoration: none;\n",
       "}\n",
       "\n",
       "/* Span, style for the box shown on hovering the info icon */\n",
       ".sk-estimator-doc-link span {\n",
       "  display: none;\n",
       "  z-index: 9999;\n",
       "  position: relative;\n",
       "  font-weight: normal;\n",
       "  right: .2ex;\n",
       "  padding: .5ex;\n",
       "  margin: .5ex;\n",
       "  width: min-content;\n",
       "  min-width: 20ex;\n",
       "  max-width: 50ex;\n",
       "  color: var(--sklearn-color-text);\n",
       "  box-shadow: 2pt 2pt 4pt #999;\n",
       "  /* unfitted */\n",
       "  background: var(--sklearn-color-unfitted-level-0);\n",
       "  border: .5pt solid var(--sklearn-color-unfitted-level-3);\n",
       "}\n",
       "\n",
       ".sk-estimator-doc-link.fitted span {\n",
       "  /* fitted */\n",
       "  background: var(--sklearn-color-fitted-level-0);\n",
       "  border: var(--sklearn-color-fitted-level-3);\n",
       "}\n",
       "\n",
       ".sk-estimator-doc-link:hover span {\n",
       "  display: block;\n",
       "}\n",
       "\n",
       "/* \"?\"-specific style due to the `<a>` HTML tag */\n",
       "\n",
       "#sk-container-id-1 a.estimator_doc_link {\n",
       "  float: right;\n",
       "  font-size: 1rem;\n",
       "  line-height: 1em;\n",
       "  font-family: monospace;\n",
       "  background-color: var(--sklearn-color-background);\n",
       "  border-radius: 1rem;\n",
       "  height: 1rem;\n",
       "  width: 1rem;\n",
       "  text-decoration: none;\n",
       "  /* unfitted */\n",
       "  color: var(--sklearn-color-unfitted-level-1);\n",
       "  border: var(--sklearn-color-unfitted-level-1) 1pt solid;\n",
       "}\n",
       "\n",
       "#sk-container-id-1 a.estimator_doc_link.fitted {\n",
       "  /* fitted */\n",
       "  border: var(--sklearn-color-fitted-level-1) 1pt solid;\n",
       "  color: var(--sklearn-color-fitted-level-1);\n",
       "}\n",
       "\n",
       "/* On hover */\n",
       "#sk-container-id-1 a.estimator_doc_link:hover {\n",
       "  /* unfitted */\n",
       "  background-color: var(--sklearn-color-unfitted-level-3);\n",
       "  color: var(--sklearn-color-background);\n",
       "  text-decoration: none;\n",
       "}\n",
       "\n",
       "#sk-container-id-1 a.estimator_doc_link.fitted:hover {\n",
       "  /* fitted */\n",
       "  background-color: var(--sklearn-color-fitted-level-3);\n",
       "}\n",
       "\n",
       ".estimator-table summary {\n",
       "    padding: .5rem;\n",
       "    font-family: monospace;\n",
       "    cursor: pointer;\n",
       "}\n",
       "\n",
       ".estimator-table details[open] {\n",
       "    padding-left: 0.1rem;\n",
       "    padding-right: 0.1rem;\n",
       "    padding-bottom: 0.3rem;\n",
       "}\n",
       "\n",
       ".estimator-table .parameters-table {\n",
       "    margin-left: auto !important;\n",
       "    margin-right: auto !important;\n",
       "}\n",
       "\n",
       ".estimator-table .parameters-table tr:nth-child(odd) {\n",
       "    background-color: #fff;\n",
       "}\n",
       "\n",
       ".estimator-table .parameters-table tr:nth-child(even) {\n",
       "    background-color: #f6f6f6;\n",
       "}\n",
       "\n",
       ".estimator-table .parameters-table tr:hover {\n",
       "    background-color: #e0e0e0;\n",
       "}\n",
       "\n",
       ".estimator-table table td {\n",
       "    border: 1px solid rgba(106, 105, 104, 0.232);\n",
       "}\n",
       "\n",
       ".user-set td {\n",
       "    color:rgb(255, 94, 0);\n",
       "    text-align: left;\n",
       "}\n",
       "\n",
       ".user-set td.value pre {\n",
       "    color:rgb(255, 94, 0) !important;\n",
       "    background-color: transparent !important;\n",
       "}\n",
       "\n",
       ".default td {\n",
       "    color: black;\n",
       "    text-align: left;\n",
       "}\n",
       "\n",
       ".user-set td i,\n",
       ".default td i {\n",
       "    color: black;\n",
       "}\n",
       "\n",
       ".copy-paste-icon {\n",
       "    background-image: url(data:image/svg+xml;base64,PHN2ZyB4bWxucz0iaHR0cDovL3d3dy53My5vcmcvMjAwMC9zdmciIHZpZXdCb3g9IjAgMCA0NDggNTEyIj48IS0tIUZvbnQgQXdlc29tZSBGcmVlIDYuNy4yIGJ5IEBmb250YXdlc29tZSAtIGh0dHBzOi8vZm9udGF3ZXNvbWUuY29tIExpY2Vuc2UgLSBodHRwczovL2ZvbnRhd2Vzb21lLmNvbS9saWNlbnNlL2ZyZWUgQ29weXJpZ2h0IDIwMjUgRm9udGljb25zLCBJbmMuLS0+PHBhdGggZD0iTTIwOCAwTDMzMi4xIDBjMTIuNyAwIDI0LjkgNS4xIDMzLjkgMTQuMWw2Ny45IDY3LjljOSA5IDE0LjEgMjEuMiAxNC4xIDMzLjlMNDQ4IDMzNmMwIDI2LjUtMjEuNSA0OC00OCA0OGwtMTkyIDBjLTI2LjUgMC00OC0yMS41LTQ4LTQ4bDAtMjg4YzAtMjYuNSAyMS41LTQ4IDQ4LTQ4ek00OCAxMjhsODAgMCAwIDY0LTY0IDAgMCAyNTYgMTkyIDAgMC0zMiA2NCAwIDAgNDhjMCAyNi41LTIxLjUgNDgtNDggNDhMNDggNTEyYy0yNi41IDAtNDgtMjEuNS00OC00OEwwIDE3NmMwLTI2LjUgMjEuNS00OCA0OC00OHoiLz48L3N2Zz4=);\n",
       "    background-repeat: no-repeat;\n",
       "    background-size: 14px 14px;\n",
       "    background-position: 0;\n",
       "    display: inline-block;\n",
       "    width: 14px;\n",
       "    height: 14px;\n",
       "    cursor: pointer;\n",
       "}\n",
       "</style><body><div id=\"sk-container-id-1\" class=\"sk-top-container\"><div class=\"sk-text-repr-fallback\"><pre>Pipeline(steps=[(&#x27;onehotencoder&#x27;,\n",
       "                 OneHotEncoder(cols=[&#x27;borough&#x27;], use_cat_names=True)),\n",
       "                (&#x27;simpleimputer&#x27;, SimpleImputer()), (&#x27;ridge&#x27;, Ridge())])</pre><b>In a Jupyter environment, please rerun this cell to show the HTML representation or trust the notebook. <br />On GitHub, the HTML representation is unable to render, please try loading this page with nbviewer.org.</b></div><div class=\"sk-container\" hidden><div class=\"sk-item sk-dashed-wrapped\"><div class=\"sk-label-container\"><div class=\"sk-label fitted sk-toggleable\"><input class=\"sk-toggleable__control sk-hidden--visually\" id=\"sk-estimator-id-1\" type=\"checkbox\" ><label for=\"sk-estimator-id-1\" class=\"sk-toggleable__label fitted sk-toggleable__label-arrow\"><div><div>Pipeline</div></div><div><a class=\"sk-estimator-doc-link fitted\" rel=\"noreferrer\" target=\"_blank\" href=\"https://scikit-learn.org/1.7/modules/generated/sklearn.pipeline.Pipeline.html\">?<span>Documentation for Pipeline</span></a><span class=\"sk-estimator-doc-link fitted\">i<span>Fitted</span></span></div></label><div class=\"sk-toggleable__content fitted\" data-param-prefix=\"\">\n",
       "        <div class=\"estimator-table\">\n",
       "            <details>\n",
       "                <summary>Parameters</summary>\n",
       "                <table class=\"parameters-table\">\n",
       "                  <tbody>\n",
       "                    \n",
       "        <tr class=\"user-set\">\n",
       "            <td><i class=\"copy-paste-icon\"\n",
       "                 onclick=\"copyToClipboard('steps',\n",
       "                          this.parentElement.nextElementSibling)\"\n",
       "            ></i></td>\n",
       "            <td class=\"param\">steps&nbsp;</td>\n",
       "            <td class=\"value\">[(&#x27;onehotencoder&#x27;, ...), (&#x27;simpleimputer&#x27;, ...), ...]</td>\n",
       "        </tr>\n",
       "    \n",
       "\n",
       "        <tr class=\"default\">\n",
       "            <td><i class=\"copy-paste-icon\"\n",
       "                 onclick=\"copyToClipboard('transform_input',\n",
       "                          this.parentElement.nextElementSibling)\"\n",
       "            ></i></td>\n",
       "            <td class=\"param\">transform_input&nbsp;</td>\n",
       "            <td class=\"value\">None</td>\n",
       "        </tr>\n",
       "    \n",
       "\n",
       "        <tr class=\"default\">\n",
       "            <td><i class=\"copy-paste-icon\"\n",
       "                 onclick=\"copyToClipboard('memory',\n",
       "                          this.parentElement.nextElementSibling)\"\n",
       "            ></i></td>\n",
       "            <td class=\"param\">memory&nbsp;</td>\n",
       "            <td class=\"value\">None</td>\n",
       "        </tr>\n",
       "    \n",
       "\n",
       "        <tr class=\"default\">\n",
       "            <td><i class=\"copy-paste-icon\"\n",
       "                 onclick=\"copyToClipboard('verbose',\n",
       "                          this.parentElement.nextElementSibling)\"\n",
       "            ></i></td>\n",
       "            <td class=\"param\">verbose&nbsp;</td>\n",
       "            <td class=\"value\">False</td>\n",
       "        </tr>\n",
       "    \n",
       "                  </tbody>\n",
       "                </table>\n",
       "            </details>\n",
       "        </div>\n",
       "    </div></div></div><div class=\"sk-serial\"><div class=\"sk-item\"><div class=\"sk-estimator fitted sk-toggleable\"><input class=\"sk-toggleable__control sk-hidden--visually\" id=\"sk-estimator-id-2\" type=\"checkbox\" ><label for=\"sk-estimator-id-2\" class=\"sk-toggleable__label fitted sk-toggleable__label-arrow\"><div><div>OneHotEncoder</div></div></label><div class=\"sk-toggleable__content fitted\" data-param-prefix=\"onehotencoder__\">\n",
       "        <div class=\"estimator-table\">\n",
       "            <details>\n",
       "                <summary>Parameters</summary>\n",
       "                <table class=\"parameters-table\">\n",
       "                  <tbody>\n",
       "                    \n",
       "        <tr class=\"default\">\n",
       "            <td><i class=\"copy-paste-icon\"\n",
       "                 onclick=\"copyToClipboard('verbose',\n",
       "                          this.parentElement.nextElementSibling)\"\n",
       "            ></i></td>\n",
       "            <td class=\"param\">verbose&nbsp;</td>\n",
       "            <td class=\"value\">0</td>\n",
       "        </tr>\n",
       "    \n",
       "\n",
       "        <tr class=\"user-set\">\n",
       "            <td><i class=\"copy-paste-icon\"\n",
       "                 onclick=\"copyToClipboard('cols',\n",
       "                          this.parentElement.nextElementSibling)\"\n",
       "            ></i></td>\n",
       "            <td class=\"param\">cols&nbsp;</td>\n",
       "            <td class=\"value\">[&#x27;borough&#x27;]</td>\n",
       "        </tr>\n",
       "    \n",
       "\n",
       "        <tr class=\"default\">\n",
       "            <td><i class=\"copy-paste-icon\"\n",
       "                 onclick=\"copyToClipboard('drop_invariant',\n",
       "                          this.parentElement.nextElementSibling)\"\n",
       "            ></i></td>\n",
       "            <td class=\"param\">drop_invariant&nbsp;</td>\n",
       "            <td class=\"value\">False</td>\n",
       "        </tr>\n",
       "    \n",
       "\n",
       "        <tr class=\"default\">\n",
       "            <td><i class=\"copy-paste-icon\"\n",
       "                 onclick=\"copyToClipboard('return_df',\n",
       "                          this.parentElement.nextElementSibling)\"\n",
       "            ></i></td>\n",
       "            <td class=\"param\">return_df&nbsp;</td>\n",
       "            <td class=\"value\">True</td>\n",
       "        </tr>\n",
       "    \n",
       "\n",
       "        <tr class=\"default\">\n",
       "            <td><i class=\"copy-paste-icon\"\n",
       "                 onclick=\"copyToClipboard('handle_missing',\n",
       "                          this.parentElement.nextElementSibling)\"\n",
       "            ></i></td>\n",
       "            <td class=\"param\">handle_missing&nbsp;</td>\n",
       "            <td class=\"value\">&#x27;value&#x27;</td>\n",
       "        </tr>\n",
       "    \n",
       "\n",
       "        <tr class=\"default\">\n",
       "            <td><i class=\"copy-paste-icon\"\n",
       "                 onclick=\"copyToClipboard('handle_unknown',\n",
       "                          this.parentElement.nextElementSibling)\"\n",
       "            ></i></td>\n",
       "            <td class=\"param\">handle_unknown&nbsp;</td>\n",
       "            <td class=\"value\">&#x27;value&#x27;</td>\n",
       "        </tr>\n",
       "    \n",
       "\n",
       "        <tr class=\"user-set\">\n",
       "            <td><i class=\"copy-paste-icon\"\n",
       "                 onclick=\"copyToClipboard('use_cat_names',\n",
       "                          this.parentElement.nextElementSibling)\"\n",
       "            ></i></td>\n",
       "            <td class=\"param\">use_cat_names&nbsp;</td>\n",
       "            <td class=\"value\">True</td>\n",
       "        </tr>\n",
       "    \n",
       "                  </tbody>\n",
       "                </table>\n",
       "            </details>\n",
       "        </div>\n",
       "    </div></div></div><div class=\"sk-item\"><div class=\"sk-estimator fitted sk-toggleable\"><input class=\"sk-toggleable__control sk-hidden--visually\" id=\"sk-estimator-id-3\" type=\"checkbox\" ><label for=\"sk-estimator-id-3\" class=\"sk-toggleable__label fitted sk-toggleable__label-arrow\"><div><div>SimpleImputer</div></div><div><a class=\"sk-estimator-doc-link fitted\" rel=\"noreferrer\" target=\"_blank\" href=\"https://scikit-learn.org/1.7/modules/generated/sklearn.impute.SimpleImputer.html\">?<span>Documentation for SimpleImputer</span></a></div></label><div class=\"sk-toggleable__content fitted\" data-param-prefix=\"simpleimputer__\">\n",
       "        <div class=\"estimator-table\">\n",
       "            <details>\n",
       "                <summary>Parameters</summary>\n",
       "                <table class=\"parameters-table\">\n",
       "                  <tbody>\n",
       "                    \n",
       "        <tr class=\"default\">\n",
       "            <td><i class=\"copy-paste-icon\"\n",
       "                 onclick=\"copyToClipboard('missing_values',\n",
       "                          this.parentElement.nextElementSibling)\"\n",
       "            ></i></td>\n",
       "            <td class=\"param\">missing_values&nbsp;</td>\n",
       "            <td class=\"value\">nan</td>\n",
       "        </tr>\n",
       "    \n",
       "\n",
       "        <tr class=\"default\">\n",
       "            <td><i class=\"copy-paste-icon\"\n",
       "                 onclick=\"copyToClipboard('strategy',\n",
       "                          this.parentElement.nextElementSibling)\"\n",
       "            ></i></td>\n",
       "            <td class=\"param\">strategy&nbsp;</td>\n",
       "            <td class=\"value\">&#x27;mean&#x27;</td>\n",
       "        </tr>\n",
       "    \n",
       "\n",
       "        <tr class=\"default\">\n",
       "            <td><i class=\"copy-paste-icon\"\n",
       "                 onclick=\"copyToClipboard('fill_value',\n",
       "                          this.parentElement.nextElementSibling)\"\n",
       "            ></i></td>\n",
       "            <td class=\"param\">fill_value&nbsp;</td>\n",
       "            <td class=\"value\">None</td>\n",
       "        </tr>\n",
       "    \n",
       "\n",
       "        <tr class=\"default\">\n",
       "            <td><i class=\"copy-paste-icon\"\n",
       "                 onclick=\"copyToClipboard('copy',\n",
       "                          this.parentElement.nextElementSibling)\"\n",
       "            ></i></td>\n",
       "            <td class=\"param\">copy&nbsp;</td>\n",
       "            <td class=\"value\">True</td>\n",
       "        </tr>\n",
       "    \n",
       "\n",
       "        <tr class=\"default\">\n",
       "            <td><i class=\"copy-paste-icon\"\n",
       "                 onclick=\"copyToClipboard('add_indicator',\n",
       "                          this.parentElement.nextElementSibling)\"\n",
       "            ></i></td>\n",
       "            <td class=\"param\">add_indicator&nbsp;</td>\n",
       "            <td class=\"value\">False</td>\n",
       "        </tr>\n",
       "    \n",
       "\n",
       "        <tr class=\"default\">\n",
       "            <td><i class=\"copy-paste-icon\"\n",
       "                 onclick=\"copyToClipboard('keep_empty_features',\n",
       "                          this.parentElement.nextElementSibling)\"\n",
       "            ></i></td>\n",
       "            <td class=\"param\">keep_empty_features&nbsp;</td>\n",
       "            <td class=\"value\">False</td>\n",
       "        </tr>\n",
       "    \n",
       "                  </tbody>\n",
       "                </table>\n",
       "            </details>\n",
       "        </div>\n",
       "    </div></div></div><div class=\"sk-item\"><div class=\"sk-estimator fitted sk-toggleable\"><input class=\"sk-toggleable__control sk-hidden--visually\" id=\"sk-estimator-id-4\" type=\"checkbox\" ><label for=\"sk-estimator-id-4\" class=\"sk-toggleable__label fitted sk-toggleable__label-arrow\"><div><div>Ridge</div></div><div><a class=\"sk-estimator-doc-link fitted\" rel=\"noreferrer\" target=\"_blank\" href=\"https://scikit-learn.org/1.7/modules/generated/sklearn.linear_model.Ridge.html\">?<span>Documentation for Ridge</span></a></div></label><div class=\"sk-toggleable__content fitted\" data-param-prefix=\"ridge__\">\n",
       "        <div class=\"estimator-table\">\n",
       "            <details>\n",
       "                <summary>Parameters</summary>\n",
       "                <table class=\"parameters-table\">\n",
       "                  <tbody>\n",
       "                    \n",
       "        <tr class=\"default\">\n",
       "            <td><i class=\"copy-paste-icon\"\n",
       "                 onclick=\"copyToClipboard('alpha',\n",
       "                          this.parentElement.nextElementSibling)\"\n",
       "            ></i></td>\n",
       "            <td class=\"param\">alpha&nbsp;</td>\n",
       "            <td class=\"value\">1.0</td>\n",
       "        </tr>\n",
       "    \n",
       "\n",
       "        <tr class=\"default\">\n",
       "            <td><i class=\"copy-paste-icon\"\n",
       "                 onclick=\"copyToClipboard('fit_intercept',\n",
       "                          this.parentElement.nextElementSibling)\"\n",
       "            ></i></td>\n",
       "            <td class=\"param\">fit_intercept&nbsp;</td>\n",
       "            <td class=\"value\">True</td>\n",
       "        </tr>\n",
       "    \n",
       "\n",
       "        <tr class=\"default\">\n",
       "            <td><i class=\"copy-paste-icon\"\n",
       "                 onclick=\"copyToClipboard('copy_X',\n",
       "                          this.parentElement.nextElementSibling)\"\n",
       "            ></i></td>\n",
       "            <td class=\"param\">copy_X&nbsp;</td>\n",
       "            <td class=\"value\">True</td>\n",
       "        </tr>\n",
       "    \n",
       "\n",
       "        <tr class=\"default\">\n",
       "            <td><i class=\"copy-paste-icon\"\n",
       "                 onclick=\"copyToClipboard('max_iter',\n",
       "                          this.parentElement.nextElementSibling)\"\n",
       "            ></i></td>\n",
       "            <td class=\"param\">max_iter&nbsp;</td>\n",
       "            <td class=\"value\">None</td>\n",
       "        </tr>\n",
       "    \n",
       "\n",
       "        <tr class=\"default\">\n",
       "            <td><i class=\"copy-paste-icon\"\n",
       "                 onclick=\"copyToClipboard('tol',\n",
       "                          this.parentElement.nextElementSibling)\"\n",
       "            ></i></td>\n",
       "            <td class=\"param\">tol&nbsp;</td>\n",
       "            <td class=\"value\">0.0001</td>\n",
       "        </tr>\n",
       "    \n",
       "\n",
       "        <tr class=\"default\">\n",
       "            <td><i class=\"copy-paste-icon\"\n",
       "                 onclick=\"copyToClipboard('solver',\n",
       "                          this.parentElement.nextElementSibling)\"\n",
       "            ></i></td>\n",
       "            <td class=\"param\">solver&nbsp;</td>\n",
       "            <td class=\"value\">&#x27;auto&#x27;</td>\n",
       "        </tr>\n",
       "    \n",
       "\n",
       "        <tr class=\"default\">\n",
       "            <td><i class=\"copy-paste-icon\"\n",
       "                 onclick=\"copyToClipboard('positive',\n",
       "                          this.parentElement.nextElementSibling)\"\n",
       "            ></i></td>\n",
       "            <td class=\"param\">positive&nbsp;</td>\n",
       "            <td class=\"value\">False</td>\n",
       "        </tr>\n",
       "    \n",
       "\n",
       "        <tr class=\"default\">\n",
       "            <td><i class=\"copy-paste-icon\"\n",
       "                 onclick=\"copyToClipboard('random_state',\n",
       "                          this.parentElement.nextElementSibling)\"\n",
       "            ></i></td>\n",
       "            <td class=\"param\">random_state&nbsp;</td>\n",
       "            <td class=\"value\">None</td>\n",
       "        </tr>\n",
       "    \n",
       "                  </tbody>\n",
       "                </table>\n",
       "            </details>\n",
       "        </div>\n",
       "    </div></div></div></div></div></div></div><script>function copyToClipboard(text, element) {\n",
       "    // Get the parameter prefix from the closest toggleable content\n",
       "    const toggleableContent = element.closest('.sk-toggleable__content');\n",
       "    const paramPrefix = toggleableContent ? toggleableContent.dataset.paramPrefix : '';\n",
       "    const fullParamName = paramPrefix ? `${paramPrefix}${text}` : text;\n",
       "\n",
       "    const originalStyle = element.style;\n",
       "    const computedStyle = window.getComputedStyle(element);\n",
       "    const originalWidth = computedStyle.width;\n",
       "    const originalHTML = element.innerHTML.replace('Copied!', '');\n",
       "\n",
       "    navigator.clipboard.writeText(fullParamName)\n",
       "        .then(() => {\n",
       "            element.style.width = originalWidth;\n",
       "            element.style.color = 'green';\n",
       "            element.innerHTML = \"Copied!\";\n",
       "\n",
       "            setTimeout(() => {\n",
       "                element.innerHTML = originalHTML;\n",
       "                element.style = originalStyle;\n",
       "            }, 2000);\n",
       "        })\n",
       "        .catch(err => {\n",
       "            console.error('Failed to copy:', err);\n",
       "            element.style.color = 'red';\n",
       "            element.innerHTML = \"Failed!\";\n",
       "            setTimeout(() => {\n",
       "                element.innerHTML = originalHTML;\n",
       "                element.style = originalStyle;\n",
       "            }, 2000);\n",
       "        });\n",
       "    return false;\n",
       "}\n",
       "\n",
       "document.querySelectorAll('.fa-regular.fa-copy').forEach(function(element) {\n",
       "    const toggleableContent = element.closest('.sk-toggleable__content');\n",
       "    const paramPrefix = toggleableContent ? toggleableContent.dataset.paramPrefix : '';\n",
       "    const paramName = element.parentElement.nextElementSibling.textContent.trim();\n",
       "    const fullParamName = paramPrefix ? `${paramPrefix}${paramName}` : paramName;\n",
       "\n",
       "    element.setAttribute('title', fullParamName);\n",
       "});\n",
       "</script></body>"
      ],
      "text/plain": [
       "Pipeline(steps=[('onehotencoder',\n",
       "                 OneHotEncoder(cols=['borough'], use_cat_names=True)),\n",
       "                ('simpleimputer', SimpleImputer()), ('ridge', Ridge())])"
      ]
     },
     "execution_count": 12,
     "metadata": {},
     "output_type": "execute_result"
    }
   ],
   "source": [
    "# Build model\n",
    "model = make_pipeline(\n",
    "    OneHotEncoder(use_cat_names=True),\n",
    "    SimpleImputer(),\n",
    "    Ridge()\n",
    ")\n",
    "# Fit model\n",
    "model.fit(X_train, y_train)"
   ]
  },
  {
   "cell_type": "markdown",
   "id": "cce4cf35",
   "metadata": {},
   "source": [
    "Using <code>Ridge()</code> model instead of <code>LinearRegression()</code> in our pipeline helps solving the issue of overfitting."
   ]
  },
  {
   "cell_type": "markdown",
   "id": "9ba4ce3f",
   "metadata": {},
   "source": [
    "<font size=\"+1.5\"><strong>Evaluate</strong></font>\n"
   ]
  },
  {
   "cell_type": "markdown",
   "id": "514bb155",
   "metadata": {},
   "source": [
    "The test data is in a CSV file."
   ]
  },
  {
   "cell_type": "code",
   "execution_count": 13,
   "id": "b13ebbb4",
   "metadata": {},
   "outputs": [
    {
     "name": "stdout",
     "output_type": "stream",
     "text": [
      "<class 'pandas.core.frame.DataFrame'>\n",
      "RangeIndex: 1041 entries, 0 to 1040\n",
      "Data columns (total 4 columns):\n",
      " #   Column                 Non-Null Count  Dtype  \n",
      "---  ------                 --------------  -----  \n",
      " 0   surface_covered_in_m2  1041 non-null   float64\n",
      " 1   lat                    986 non-null    float64\n",
      " 2   lon                    986 non-null    float64\n",
      " 3   borough                1041 non-null   object \n",
      "dtypes: float64(3), object(1)\n",
      "memory usage: 32.7+ KB\n",
      "None\n"
     ]
    },
    {
     "data": {
      "text/html": [
       "<div>\n",
       "<style scoped>\n",
       "    .dataframe tbody tr th:only-of-type {\n",
       "        vertical-align: middle;\n",
       "    }\n",
       "\n",
       "    .dataframe tbody tr th {\n",
       "        vertical-align: top;\n",
       "    }\n",
       "\n",
       "    .dataframe thead th {\n",
       "        text-align: right;\n",
       "    }\n",
       "</style>\n",
       "<table border=\"1\" class=\"dataframe\">\n",
       "  <thead>\n",
       "    <tr style=\"text-align: right;\">\n",
       "      <th></th>\n",
       "      <th>surface_covered_in_m2</th>\n",
       "      <th>lat</th>\n",
       "      <th>lon</th>\n",
       "      <th>borough</th>\n",
       "    </tr>\n",
       "  </thead>\n",
       "  <tbody>\n",
       "    <tr>\n",
       "      <th>0</th>\n",
       "      <td>60.0</td>\n",
       "      <td>19.493185</td>\n",
       "      <td>-99.205755</td>\n",
       "      <td>Azcapotzalco</td>\n",
       "    </tr>\n",
       "    <tr>\n",
       "      <th>1</th>\n",
       "      <td>55.0</td>\n",
       "      <td>19.307247</td>\n",
       "      <td>-99.166700</td>\n",
       "      <td>Coyoacán</td>\n",
       "    </tr>\n",
       "    <tr>\n",
       "      <th>2</th>\n",
       "      <td>50.0</td>\n",
       "      <td>19.363469</td>\n",
       "      <td>-99.010141</td>\n",
       "      <td>Iztapalapa</td>\n",
       "    </tr>\n",
       "    <tr>\n",
       "      <th>3</th>\n",
       "      <td>60.0</td>\n",
       "      <td>19.474655</td>\n",
       "      <td>-99.189277</td>\n",
       "      <td>Azcapotzalco</td>\n",
       "    </tr>\n",
       "    <tr>\n",
       "      <th>4</th>\n",
       "      <td>74.0</td>\n",
       "      <td>19.394628</td>\n",
       "      <td>-99.143842</td>\n",
       "      <td>Benito Juárez</td>\n",
       "    </tr>\n",
       "  </tbody>\n",
       "</table>\n",
       "</div>"
      ],
      "text/plain": [
       "   surface_covered_in_m2        lat        lon        borough\n",
       "0                   60.0  19.493185 -99.205755   Azcapotzalco\n",
       "1                   55.0  19.307247 -99.166700       Coyoacán\n",
       "2                   50.0  19.363469 -99.010141     Iztapalapa\n",
       "3                   60.0  19.474655 -99.189277   Azcapotzalco\n",
       "4                   74.0  19.394628 -99.143842  Benito Juárez"
      ]
     },
     "execution_count": 13,
     "metadata": {},
     "output_type": "execute_result"
    }
   ],
   "source": [
    "X_test = pd.read_csv(\"data/mexico-city-test-features.csv\", sep=\";\").drop(columns=[\"Unnamed: 4\", \"Unnamed: 5\"])\n",
    "print(X_test.info())\n",
    "X_test.head()"
   ]
  },
  {
   "cell_type": "markdown",
   "id": "907df4d4",
   "metadata": {},
   "source": [
    "Generates a Series of predictions:"
   ]
  },
  {
   "cell_type": "code",
   "execution_count": 14,
   "id": "82825914",
   "metadata": {},
   "outputs": [
    {
     "data": {
      "text/plain": [
       "0    53538.366480\n",
       "1    53171.988369\n",
       "2    34263.884179\n",
       "3    53488.425607\n",
       "4    68738.924884\n",
       "dtype: float64"
      ]
     },
     "execution_count": 14,
     "metadata": {},
     "output_type": "execute_result"
    }
   ],
   "source": [
    "y_test_pred = pd.Series(model.predict(X_test))\n",
    "y_test_pred.head()"
   ]
  },
  {
   "cell_type": "markdown",
   "id": "18bcd2ec",
   "metadata": {},
   "source": [
    "## Communicate Results"
   ]
  },
  {
   "cell_type": "markdown",
   "id": "4eb0a13f",
   "metadata": {},
   "source": [
    "Creates a Series where indexes are the features and the column the associated coefficient values.\n",
    "\n",
    "<code>named_steps</code> is used to access the transformers and/or predictors added to the model's pipeline."
   ]
  },
  {
   "cell_type": "code",
   "execution_count": 15,
   "id": "4b52508f",
   "metadata": {},
   "outputs": [
    {
     "data": {
      "text/plain": [
       "surface_covered_in_m2               291.654156\n",
       "borough_Cuauhtémoc                 -350.531990\n",
       "borough_Iztacalco                   405.403127\n",
       "lat                                 478.901375\n",
       "borough_Xochimilco                  929.857400\n",
       "borough_Miguel Hidalgo             1977.314718\n",
       "borough_Azcapotzalco               2459.288646\n",
       "lon                               -2492.221814\n",
       "borough_Álvaro Obregón             3275.121061\n",
       "borough_Coyoacán                   3737.561001\n",
       "borough_Venustiano Carranza       -5609.918629\n",
       "borough_La Magdalena Contreras    -5925.666450\n",
       "borough_Gustavo A. Madero         -6637.429757\n",
       "borough_Cuajimalpa de Morelos      9157.269123\n",
       "borough_Tlalpan                   10319.429804\n",
       "borough_Iztapalapa               -13349.017448\n",
       "borough_Benito Juárez             13778.188880\n",
       "borough_Tláhuac                  -14166.869486\n",
       "dtype: float64"
      ]
     },
     "execution_count": 15,
     "metadata": {},
     "output_type": "execute_result"
    }
   ],
   "source": [
    "coefficients = model.named_steps[\"ridge\"].coef_\n",
    "features = model.named_steps[\"onehotencoder\"].get_feature_names_out()\n",
    "feat_imp = pd.Series(coefficients, features).sort_values(key=abs)\n",
    "feat_imp"
   ]
  },
  {
   "cell_type": "markdown",
   "id": "8573190c",
   "metadata": {},
   "source": [
    "The following horizontal bar chart shows the 10 most influential coefficients for the model:"
   ]
  },
  {
   "cell_type": "code",
   "execution_count": 16,
   "id": "7fd42234",
   "metadata": {},
   "outputs": [
    {
     "data": {
      "image/png": "[encoded data removed]",
      "text/plain": [
       "<Figure size 640x480 with 1 Axes>"
      ]
     },
     "metadata": {},
     "output_type": "display_data"
    }
   ],
   "source": [
    "fig, ax = plt.subplots()\n",
    "\n",
    "feat_imp.tail(10).plot(kind=\"barh\", ax=ax)\n",
    "\n",
    "ax.set_xlabel(\"Importance [USd]\")\n",
    "ax.set_ylabel(\"Feature\")\n",
    "ax.set_title(\"Feature Importances for Apartment Price\");"
   ]
  }
 ],
 "metadata": {
  "kernelspec": {
   "display_name": "myenv",
   "language": "python",
   "name": "python3"
  },
  "language_info": {
   "codemirror_mode": {
    "name": "ipython",
    "version": 3
   },
   "file_extension": ".py",
   "mimetype": "text/x-python",
   "name": "python",
   "nbconvert_exporter": "python",
   "pygments_lexer": "ipython3",
   "version": "3.13.2"
  }
 },
 "nbformat": 4,
 "nbformat_minor": 5
}
