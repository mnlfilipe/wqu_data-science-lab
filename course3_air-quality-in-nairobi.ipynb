{
 "cells": [
  {
   "cell_type": "markdown",
   "id": "bc26ddde",
   "metadata": {},
   "source": [
    "<font size=\"+3\"><strong>3 Air Quality in Nairobi 🇰🇪</strong></font>"
   ]
  },
  {
   "cell_type": "markdown",
   "id": "9c843b20",
   "metadata": {},
   "source": [
    "<font size=\"+2\"><strong>3.5 Air Quality in Dar es Salaam 🇹🇿</strong></font>"
   ]
  },
  {
   "cell_type": "markdown",
   "id": "1e68a4c3",
   "metadata": {},
   "source": [
    "This notebook resumes the most important things learned in the WorldQuant course 3 Applied Data Science Lab - Air Quality in Nairobi\". It uses the courses' project \"Air Quality in Dar es Salaam\" since it implements the main ideas learned.\n",
    "\n",
    "In this project, we''ll work with data from one of Africa's largest open data platforms openAfrica. We'll also look at air quality data from Nairobi, Lagos, and Dar es Salaam; and build a time series model to predict PM 2.5 readings throughout the day.\n",
    "\n",
    "Topics learned in this project:\n",
    "\n",
    "- How to get data by querying a MongoDB database.\n",
    "- How to prepare time series data for analysis.\n",
    "- How to build an autoregression model.\n",
    "- How to improve a model by tuning its hyperparameters.\n",
    "\n",
    "Imports necessary libraries:"
   ]
  },
  {
   "cell_type": "code",
   "execution_count": 1,
   "id": "771aa018",
   "metadata": {},
   "outputs": [],
   "source": [
    "import inspect\n",
    "import time\n",
    "import warnings\n",
    "\n",
    "import matplotlib.pyplot as plt\n",
    "import pandas as pd\n",
    "import plotly.express as px\n",
    "import seaborn as sns\n",
    "from pymongo import MongoClient\n",
    "from sklearn.metrics import mean_absolute_error\n",
    "from statsmodels.graphics.tsaplots import plot_acf, plot_pacf\n",
    "from statsmodels.tsa.ar_model import AutoReg"
   ]
  },
  {
   "cell_type": "markdown",
   "id": "26c32ff9",
   "metadata": {},
   "source": [
    "# Prepare Data"
   ]
  },
  {
   "cell_type": "markdown",
   "id": "aadbabbb",
   "metadata": {},
   "source": [
    "## Connect"
   ]
  },
  {
   "cell_type": "markdown",
   "id": "9cc368f0",
   "metadata": {},
   "source": [
    "Establishes the IP address on the MongoDB server:"
   ]
  },
  {
   "cell_type": "code",
   "execution_count": 2,
   "id": "5d70d8e3",
   "metadata": {},
   "outputs": [],
   "source": [
    "host = \"localhost\""
   ]
  },
  {
   "cell_type": "markdown",
   "id": "de234c01",
   "metadata": {},
   "source": [
    "MongoDB data is organized in the following hierarchical order: \n",
    "1. database:\n",
    "    - a MongDB server can host multiple databases\n",
    "    - they have to be accessed through a Client\n",
    "    \n",
    "2. collection:\n",
    "    - a collection stores a group of documents\n",
    "    - contains semi-structured data, this means different documents can have different features\n",
    "    \n",
    "3. document:\n",
    "    - basic unit of data in MongoDB\n",
    "    - stored in BSON (Binary JSON), which supports more types than JSON (e.g., dates, binary data)"
   ]
  },
  {
   "cell_type": "markdown",
   "id": "0d9c6cbb",
   "metadata": {},
   "source": [
    "`PrettyPrinter` makes the information MongoDB generates easier to understand:"
   ]
  },
  {
   "cell_type": "code",
   "execution_count": 3,
   "id": "3b43e046",
   "metadata": {},
   "outputs": [],
   "source": [
    "from pprint import PrettyPrinter\n",
    "\n",
    "pp = PrettyPrinter(indent=2)"
   ]
  },
  {
   "cell_type": "code",
   "execution_count": 4,
   "id": "bd99af41",
   "metadata": {},
   "outputs": [
    {
     "name": "stdout",
     "output_type": "stream",
     "text": [
      "[ {'empty': False, 'name': 'admin', 'sizeOnDisk': 40960},\n",
      "  {'empty': False, 'name': 'air-quality', 'sizeOnDisk': 5918720},\n",
      "  {'empty': False, 'name': 'config', 'sizeOnDisk': 110592},\n",
      "  {'empty': False, 'name': 'local', 'sizeOnDisk': 40960},\n",
      "  {'empty': False, 'name': 'wqu-abtest', 'sizeOnDisk': 1069056}]\n"
     ]
    }
   ],
   "source": [
    "# connects with DataBase\n",
    "client = MongoClient(host=host, port=27017)\n",
    "\n",
    "# lists databases available ion the server\n",
    "pp.pprint(list(client.list_databases()))\n",
    "\n",
    "# gets database\n",
    "db = client[\"air-quality\"]\n",
    "\n",
    "# lists collections available in 'db'\n",
    "db.list_collections()\n",
    "\n",
    "# assigns the 'dar-es-salaam' collection to a variable\n",
    "dar = db[\"dar-es-salaam\"]"
   ]
  },
  {
   "cell_type": "markdown",
   "id": "e93a1859",
   "metadata": {},
   "source": [
    "## Explore"
   ]
  },
  {
   "cell_type": "code",
   "execution_count": 5,
   "id": "c6964162",
   "metadata": {},
   "outputs": [
    {
     "data": {
      "text/plain": [
       "233262"
      ]
     },
     "execution_count": 5,
     "metadata": {},
     "output_type": "execute_result"
    }
   ],
   "source": [
    "# checks how many documents are in the 'dar' collection\n",
    "dar.count_documents({})"
   ]
  },
  {
   "cell_type": "code",
   "execution_count": 6,
   "id": "475f71fa",
   "metadata": {},
   "outputs": [
    {
     "data": {
      "text/plain": [
       "[11, 23]"
      ]
     },
     "execution_count": 6,
     "metadata": {},
     "output_type": "execute_result"
    }
   ],
   "source": [
    "# determines how many sensor sites are included in the 'dar' collection\n",
    "sites = dar.distinct(\"metadata.site\")\n",
    "sites"
   ]
  },
  {
   "cell_type": "code",
   "execution_count": 7,
   "id": "043cb0be",
   "metadata": {},
   "outputs": [
    {
     "data": {
      "text/plain": [
       "173242"
      ]
     },
     "execution_count": 7,
     "metadata": {},
     "output_type": "execute_result"
    }
   ],
   "source": [
    "# determines how many readings there are for each site in the 'dar' collection\n",
    "dar.count_documents({\"metadata.site\": 11}) "
   ]
  },
  {
   "cell_type": "code",
   "execution_count": 8,
   "id": "93e56353",
   "metadata": {},
   "outputs": [
    {
     "data": {
      "text/plain": [
       "[{'_id': 11, 'count': 173242}, {'_id': 23, 'count': 60020}]"
      ]
     },
     "execution_count": 8,
     "metadata": {},
     "output_type": "execute_result"
    }
   ],
   "source": [
    "# determines how many readings there are for each site in the nairobi collection\n",
    "result = dar.aggregate(\n",
    "    [\n",
    "        {\"$group\": {\"_id\": \"$metadata.site\", \"count\": {\"$count\": {}}}}\n",
    "    ]\n",
    ")\n",
    "\n",
    "readings_per_site = list(result)\n",
    "readings_per_site"
   ]
  },
  {
   "cell_type": "markdown",
   "id": "90032ba8",
   "metadata": {},
   "source": [
    "## Import"
   ]
  },
  {
   "cell_type": "code",
   "execution_count": 9,
   "id": "06117ba5",
   "metadata": {},
   "outputs": [
    {
     "data": {
      "text/plain": [
       "{'timestamp': datetime.datetime(2018, 1, 1, 0, 0, 48, 41000),\n",
       " 'metadata': {'lat': -6.818,\n",
       "  'lon': 39.285,\n",
       "  'measurement': 'temperature',\n",
       "  'sensor_id': 34,\n",
       "  'sensor_type': 'DHT22',\n",
       "  'site': 11},\n",
       " 'temperature': 30.1,\n",
       " '_id': ObjectId('6525d778f44bfedd842c72d8')}"
      ]
     },
     "execution_count": 9,
     "metadata": {},
     "output_type": "execute_result"
    }
   ],
   "source": [
    "# retrives one random document from the 'dar' collection\n",
    "# a document is stored as a dictionary\n",
    "dar.find_one({})"
   ]
  },
  {
   "cell_type": "markdown",
   "id": "1065e888",
   "metadata": {},
   "source": [
    "### TimeSeries\n",
    "\n",
    "- MongoDB stores all timestamps in UTC\n",
    "- in this <code>wrangle</code> function the time data is converted to Africa/Dar_es_Salaam timezone"
   ]
  },
  {
   "cell_type": "code",
   "execution_count": 10,
   "id": "e8a5e5fc",
   "metadata": {},
   "outputs": [],
   "source": [
    "def wrangle(collection):\n",
    "    \n",
    "    # Retrives the PM2.5 readings from site 11\n",
    "    # Uses the projection argument to limit the results to the \"P2\" and \"timestamp\" keys only\n",
    "    result = collection.find(\n",
    "        {\"metadata.site\": 11, \"metadata.measurement\": \"P2\"},\n",
    "        projection={\"P2\": 1, \"timestamp\": 1, \"_id\": 0},\n",
    "    )\n",
    "    \n",
    "    # Read results into DataFrame\n",
    "    df = pd.DataFrame(list(result)).set_index(\"timestamp\")\n",
    "\n",
    "    # Localize timezone\n",
    "    df.index = df.index.tz_localize(\"UTC\").tz_convert(\"Africa/Dar_es_Salaam\")\n",
    "\n",
    "    # Remove outliers w/ readings above 100\n",
    "    df = df[df[\"P2\"] < 101]\n",
    "\n",
    "    # Resamples to 1-hour window mean values\n",
    "    # Imputes missing values using the forward-fill method\n",
    "    df = df[\"P2\"].resample(\"1h\").mean().ffill().to_frame()\n",
    "\n",
    "    # squeeze() method converts 1-column DataFrame into a Series\n",
    "    return df.squeeze()"
   ]
  },
  {
   "cell_type": "code",
   "execution_count": 11,
   "id": "423caa7b",
   "metadata": {},
   "outputs": [
    {
     "name": "stdout",
     "output_type": "stream",
     "text": [
      "<class 'pandas.core.series.Series'>\n"
     ]
    }
   ],
   "source": [
    "y = wrangle(dar)\n",
    "print(type(y))"
   ]
  },
  {
   "cell_type": "markdown",
   "id": "51bbf332",
   "metadata": {},
   "source": [
    "## Explore Some More"
   ]
  },
  {
   "cell_type": "markdown",
   "id": "eb5fe71d",
   "metadata": {},
   "source": [
    "Creates a time series plot of the readings in <code>y</code>:"
   ]
  },
  {
   "cell_type": "code",
   "execution_count": 12,
   "id": "d0d1e30a",
   "metadata": {},
   "outputs": [
    {
     "data": {
      "image/png": "[encoded data removed]",
      "text/plain": [
       "<Figure size 1500x600 with 1 Axes>"
      ]
     },
     "metadata": {},
     "output_type": "display_data"
    }
   ],
   "source": [
    "fig, ax = plt.subplots(figsize=(15, 6))\n",
    "\n",
    "# use ax=ax in your plot\n",
    "y.plot(ax=ax, xlabel=\"Date\", ylabel=\"PM2.5 Level\", title=\"Dar es Salaam PM2.5 Levels\");"
   ]
  },
  {
   "cell_type": "markdown",
   "id": "78cc0349",
   "metadata": {},
   "source": [
    "### Rolling Windows\n",
    "\n",
    "Rolling window is an important concept for time series analysis. We first define a window size, like 7 days, three months, etc. \n",
    "\n",
    "Then we calculate some statistics taking data from each window sequentially throughout the time series.\n",
    "\n",
    "Rolling window statistics are very helpful in smoothing noisy data when making time series predictions."
   ]
  },
  {
   "cell_type": "markdown",
   "id": "3a7178f8",
   "metadata": {},
   "source": [
    "Plots the rolling average of the readings in <code>y</code>. \n",
    "\n",
    "Uses a window size of 168 (the number of hours in a week):"
   ]
  },
  {
   "cell_type": "code",
   "execution_count": 13,
   "id": "c5c23356",
   "metadata": {},
   "outputs": [
    {
     "data": {
      "image/png": "[encoded data removed]",
      "text/plain": [
       "<Figure size 1500x600 with 1 Axes>"
      ]
     },
     "metadata": {},
     "output_type": "display_data"
    }
   ],
   "source": [
    "fig, ax = plt.subplots(figsize=(15, 6))\n",
    "\n",
    "# use ax=ax in your plot\n",
    "y.rolling(168).mean().plot(\n",
    "    ax=ax, \n",
    "    xlabel=\"Date\", \n",
    "    ylabel=\"PM2.5 Level\", \n",
    "    title=\"Dar es Salaam PM2.5 Levels, 7-Day Rolling Average\"\n",
    ");"
   ]
  },
  {
   "cell_type": "markdown",
   "id": "716d3815",
   "metadata": {},
   "source": [
    "ACT and PACT plots help understand the correlation between y and previous values of y. \n",
    "\n",
    "We want to compare our ACF and PACF plots to see which model best describes our time series. \n",
    "\n",
    "If the ACF data drops off slowly, then that's going to be a better description; if the PACF falls off slowly, then that's going to be a better description.\n"
   ]
  },
  {
   "cell_type": "markdown",
   "id": "172c0367",
   "metadata": {},
   "source": [
    "### ACF Plot\n",
    "\n",
    "An Autocorrelation Function (ACF) plot is created so we can see how autocorrelations change over time."
   ]
  },
  {
   "cell_type": "markdown",
   "id": "047fa0ba",
   "metadata": {},
   "source": [
    "Creates an ACF plot for the data in <code>y</code>:"
   ]
  },
  {
   "cell_type": "code",
   "execution_count": 14,
   "id": "774c8322",
   "metadata": {},
   "outputs": [
    {
     "data": {
      "image/png": "[encoded data removed]",
      "text/plain": [
       "<Figure size 1500x600 with 1 Axes>"
      ]
     },
     "metadata": {},
     "output_type": "display_data"
    }
   ],
   "source": [
    "fig, ax = plt.subplots(figsize=(15, 6))\n",
    "\n",
    "# use ax=ax in your plot\n",
    "plot_acf(y, ax=ax)\n",
    "\n",
    "ax.set_xlabel(\"Lag [hours]\")\n",
    "ax.set_ylabel(\"Correlation Coefficient\")\n",
    "\n",
    "ax.set_title(\"Dar es Salaam PM2.5 Readings, ACF\");"
   ]
  },
  {
   "cell_type": "markdown",
   "id": "1b2f1704",
   "metadata": {},
   "source": [
    "### PACF\n",
    "\n",
    "The Partial ACF (PACF) takes into account the echo between values.\n",
    "\n",
    "It should be used to determine which previous values of y should be used in the predictive model"
   ]
  },
  {
   "cell_type": "markdown",
   "id": "d9dd1a59",
   "metadata": {},
   "source": [
    "Creates an PACF plot for the data in <code>y</code>:"
   ]
  },
  {
   "cell_type": "code",
   "execution_count": 15,
   "id": "dd55fa0a",
   "metadata": {},
   "outputs": [
    {
     "data": {
      "image/png": "[encoded data removed]",
      "text/plain": [
       "<Figure size 1500x600 with 1 Axes>"
      ]
     },
     "metadata": {},
     "output_type": "display_data"
    }
   ],
   "source": [
    "fig, ax = plt.subplots(figsize=(15, 6))\n",
    "\n",
    "# Use ax=ax in your plot\n",
    "\n",
    "plot_pacf(y, ax=ax)\n",
    "\n",
    "ax.set_xlabel(\"Lag [hours]\")\n",
    "ax.set_ylabel(\"Correlation Coefficient\")\n",
    "\n",
    "ax.set_title(\"Dar es Salaam PM2.5 Readings, PACF\");"
   ]
  },
  {
   "cell_type": "markdown",
   "id": "422afa3d",
   "metadata": {},
   "source": [
    "## Split"
   ]
  },
  {
   "cell_type": "markdown",
   "id": "c40280b3",
   "metadata": {},
   "source": [
    "Splits <code>y</code> into training and test sets:"
   ]
  },
  {
   "cell_type": "code",
   "execution_count": 16,
   "id": "f9999b8b",
   "metadata": {},
   "outputs": [
    {
     "name": "stdout",
     "output_type": "stream",
     "text": [
      "y_train shape: (1944,)\n",
      "y_test shape: (216,)\n"
     ]
    }
   ],
   "source": [
    "cutoff_test = int(0.9 * len(y))\n",
    "y_train = y.iloc[:cutoff_test]\n",
    "y_test = y.iloc[cutoff_test:]\n",
    "print(\"y_train shape:\", y_train.shape)\n",
    "print(\"y_test shape:\", y_test.shape)"
   ]
  },
  {
   "cell_type": "markdown",
   "id": "c23e959d",
   "metadata": {},
   "source": [
    "# Build Model"
   ]
  },
  {
   "cell_type": "markdown",
   "id": "7d5a1612",
   "metadata": {},
   "source": [
    "## Baseline"
   ]
  },
  {
   "cell_type": "markdown",
   "id": "1cbfc31a",
   "metadata": {},
   "source": [
    "Establishes the baseline mean absolute error for the model.\n",
    "\n",
    "The baseline MEA is considers a model where the prediction is always the mean value of the training predictions. "
   ]
  },
  {
   "cell_type": "code",
   "execution_count": 17,
   "id": "cddf8b06",
   "metadata": {},
   "outputs": [
    {
     "name": "stdout",
     "output_type": "stream",
     "text": [
      "Mean P2 Reading: 8.57142319061077\n",
      "Baseline MAE: 4.053101181299159\n"
     ]
    }
   ],
   "source": [
    "y_train_mean = y_train.mean()\n",
    "y_pred_baseline = [y_train_mean] * len(y_train)\n",
    "mae_baseline = mean_absolute_error(y_train, y_pred_baseline)\n",
    "\n",
    "print(\"Mean P2 Reading:\", y_train_mean)\n",
    "print(\"Baseline MAE:\", mae_baseline)"
   ]
  },
  {
   "cell_type": "markdown",
   "id": "880b88b0",
   "metadata": {},
   "source": [
    "## Model Types"
   ]
  },
  {
   "cell_type": "markdown",
   "id": "32601885",
   "metadata": {},
   "source": [
    "### Autoregression Models\n",
    "\n",
    "Autoregression (AR) is a time series model that uses observations from previous time steps as input to a regression equation to predict the value at the next time step. \n",
    "\n",
    "AR works in a similar way to autocorrelation: in both cases, we're taking data from one part of a set and comparing it to another part. An AR model regresses itself."
   ]
  },
  {
   "cell_type": "markdown",
   "id": "84473929",
   "metadata": {},
   "source": [
    "### ARMA Models\n",
    "\n",
    "ARMA stands for Auto Regressive Moving Average, and it's a special kind of time-series analysis. \n",
    "\n",
    "AR models rely on values that remain relatively stable over time. That is, they can predict the future very well, as long as the future looks roughly the same as the past. \n",
    "\n",
    "The trouble with predicting the future is that things can suddenly change, and as a result, the future doesn't look much like the past anymore. \n",
    "\n",
    "These sudden changes can be as big as a hurricane destroying a city or an unexpected increase in the minimum wage, and they can be as small as a new restaurant opening in a neighborhood or a single person losing their job. \n",
    "\n",
    "In our data, the air quality might be changed if there was a nearby forest fire, or if a building collapsed near one of the sensors and raised a giant cloud of dust."
   ]
  },
  {
   "cell_type": "markdown",
   "id": "3e4f4822",
   "metadata": {},
   "source": [
    "## Iterate"
   ]
  },
  {
   "cell_type": "markdown",
   "id": "467e2e72",
   "metadata": {},
   "source": [
    "### Lags\n",
    "\n",
    "Lagging data means that we're adding a delay. In this case, we're going to allow the model to test itself out by comparing its predictions for different hour lags. \n",
    "\n",
    "If the prediction and the reality are close, then it's a good model; if they aren't, then the model isn't a very good one."
   ]
  },
  {
   "cell_type": "markdown",
   "id": "0a823f2a",
   "metadata": {},
   "source": [
    "The following code aims to determine which hyperparameter setting will give me the best performance.\n",
    "\n",
    "To predict PM2.5 readings, it uses an AutoReg model.\n",
    "\n",
    "The <code>for</code> loop is used to train the AR model on using settings for lags from 1 to 30. \n",
    "\n",
    "Each time a new model is trained, it calculates its MEA and appends the result to a list.\n",
    "\n",
    "The results are stored in a list."
   ]
  },
  {
   "cell_type": "code",
   "execution_count": 18,
   "id": "9b70a5ff",
   "metadata": {},
   "outputs": [
    {
     "data": {
      "text/plain": [
       "1    1.059376\n",
       "2    1.045182\n",
       "3    1.032489\n",
       "4    1.032147\n",
       "5    1.031022\n",
       "Name: mae, dtype: float64"
      ]
     },
     "execution_count": 18,
     "metadata": {},
     "output_type": "execute_result"
    }
   ],
   "source": [
    "# Create range to test different lags\n",
    "p_params = range(1, 31)\n",
    "\n",
    "# Create empty list to hold mean absolute error scores\n",
    "maes = []\n",
    "\n",
    "# Iterate through all values of p in `p_params`\n",
    "for p in p_params:\n",
    "    # Build model\n",
    "    model = AutoReg(y_train.copy(), lags=p).fit()\n",
    "\n",
    "    # Make predictions on training data, dropping null values caused by lag\n",
    "    y_pred = model.predict().dropna()\n",
    "\n",
    "    # Calculate mean absolute error for training data vs predictions\n",
    "    mae = mean_absolute_error(y_train.iloc[p:], y_pred)\n",
    "\n",
    "    # Append `mae` to list `maes`\n",
    "    maes.append(mae)\n",
    "\n",
    "# Put list `maes` into Series with index `p_params`\n",
    "mae_series = pd.Series(maes, name=\"mae\", index=p_params)\n",
    "\n",
    "# Inspect head of Series\n",
    "mae_series.head()"
   ]
  },
  {
   "cell_type": "markdown",
   "id": "e134f2c2",
   "metadata": {},
   "source": [
    "Determines which value for <code>p</code> provides the best performance.\n",
    "\n",
    "Build a model for that value:"
   ]
  },
  {
   "cell_type": "code",
   "execution_count": 19,
   "id": "b503cae7",
   "metadata": {},
   "outputs": [],
   "source": [
    "best_p = min(mae_series.index, key=mae_series.get)\n",
    "best_model = AutoReg(y_train, lags=best_p).fit()"
   ]
  },
  {
   "cell_type": "markdown",
   "id": "c2c18002",
   "metadata": {},
   "source": [
    "### Residuals\n",
    "\n",
    "<code>y_train_resid = y_train - y_pred</code>"
   ]
  },
  {
   "cell_type": "markdown",
   "id": "ec0acbd3",
   "metadata": {},
   "source": [
    "Calculates the training residuals for <code>best_model</code>:"
   ]
  },
  {
   "cell_type": "code",
   "execution_count": 20,
   "id": "ad992788",
   "metadata": {},
   "outputs": [
    {
     "data": {
      "text/plain": [
       "timestamp\n",
       "2018-01-02 05:00:00+03:00   -0.412913\n",
       "2018-01-02 06:00:00+03:00    1.484934\n",
       "2018-01-02 07:00:00+03:00    1.672359\n",
       "2018-01-02 08:00:00+03:00   -0.368030\n",
       "2018-01-02 09:00:00+03:00   -0.536868\n",
       "                               ...   \n",
       "2018-03-22 22:00:00+03:00   -0.157974\n",
       "2018-03-22 23:00:00+03:00   -1.114870\n",
       "2018-03-23 00:00:00+03:00    0.495103\n",
       "2018-03-23 01:00:00+03:00    0.030638\n",
       "2018-03-23 02:00:00+03:00    2.401650\n",
       "Freq: h, Name: residuals, Length: 1918, dtype: float64"
      ]
     },
     "execution_count": 20,
     "metadata": {},
     "output_type": "execute_result"
    }
   ],
   "source": [
    "y_train_resid = best_model.resid\n",
    "y_train_resid.name = \"residuals\"\n",
    "y_train_resid"
   ]
  },
  {
   "cell_type": "markdown",
   "id": "8f00ba1c",
   "metadata": {},
   "source": [
    "Creates a histogram of <code>y_train_resid</code>:"
   ]
  },
  {
   "cell_type": "code",
   "execution_count": 21,
   "id": "4d85ffde",
   "metadata": {},
   "outputs": [
    {
     "data": {
      "image/png": "[encoded data removed]",
      "text/plain": [
       "<Figure size 640x480 with 1 Axes>"
      ]
     },
     "metadata": {},
     "output_type": "display_data"
    }
   ],
   "source": [
    "# Plot histogram of residuals\n",
    "fig, ax = plt.subplots()\n",
    "\n",
    "# Use ax=ax in your plot\n",
    "y_train_resid.hist(ax=ax)\n",
    "\n",
    "ax.set_xlabel(\"Residuals\")\n",
    "ax.set_ylabel(\"Frequency\")\n",
    "ax.set_title(\"Best Model, Training Residuals\");"
   ]
  },
  {
   "cell_type": "markdown",
   "id": "bea4f87d",
   "metadata": {},
   "source": [
    "Creates an ACF plot for <code>y_train_resid</code>:"
   ]
  },
  {
   "cell_type": "code",
   "execution_count": 22,
   "id": "c3dc7f26",
   "metadata": {},
   "outputs": [
    {
     "data": {
      "image/png": "[encoded data removed]",
      "text/plain": [
       "<Figure size 1500x600 with 1 Axes>"
      ]
     },
     "metadata": {},
     "output_type": "display_data"
    }
   ],
   "source": [
    "fig, ax = plt.subplots(figsize=(15, 6))\n",
    "\n",
    "# Use ax=ax in your plot\n",
    "plot_acf(y_train_resid, ax=ax)\n",
    "ax.set_xlabel(\"Lag [hours]\")\n",
    "ax.set_ylabel(\"Correlation Coefficient\")\n",
    "ax.set_title(\"Dar es Salaam, Training Residuals ACF\");"
   ]
  },
  {
   "cell_type": "markdown",
   "id": "02a17249",
   "metadata": {},
   "source": [
    "## Evaluate"
   ]
  },
  {
   "cell_type": "markdown",
   "id": "684c2902",
   "metadata": {},
   "source": [
    "### Walk-forward Validation\n",
    "\n",
    "Our predictions lose power over time because the model gets farther and farther away from its beginning. \n",
    "\n",
    "But what if we could move that beginning forward with the model? That's what **walk-forward validation** is. \n",
    "\n",
    "In a walk-forward validation, we re-train the model at for each new observation in the dataset, dropping the data that's the farthest in the past. \n",
    "\n",
    "Let's say that our prediction for what's going to happen at 12:00 is based on what happened at 11:00, 10:00, and 9:00. \n",
    "\n",
    "When we move forward an hour to predict what's going to happen at 1:00, we only use data from 10:00, 11:00, and 12:00, dropping the data from 9:00 because it's now too far in the past."
   ]
  },
  {
   "cell_type": "markdown",
   "id": "e51a715e",
   "metadata": {},
   "source": [
    "Performs walk-forward validation for the model for the entire test set <code>y_test</code>:"
   ]
  },
  {
   "cell_type": "code",
   "execution_count": 23,
   "id": "69b9b127",
   "metadata": {},
   "outputs": [
    {
     "data": {
      "text/plain": [
       "timestamp\n",
       "2018-03-23 03:00:00+03:00    10.414744\n",
       "2018-03-23 04:00:00+03:00     8.269589\n",
       "2018-03-23 05:00:00+03:00    15.178677\n",
       "2018-03-23 06:00:00+03:00    33.475398\n",
       "2018-03-23 07:00:00+03:00    39.571363\n",
       "Freq: h, Name: prediction, dtype: float64"
      ]
     },
     "execution_count": 23,
     "metadata": {},
     "output_type": "execute_result"
    }
   ],
   "source": [
    "y_pred_list = []\n",
    "history = y_train.copy()\n",
    "\n",
    "for i in range(len(y_test)):\n",
    "    model = AutoReg(history, lags=26).fit()\n",
    "    next_pred=model.forecast()\n",
    "    y_pred_list.append(next_pred.iloc[0])\n",
    "\n",
    "    # Add current y_test value to history\n",
    "    history = pd.concat([history, y_test.iloc[[i]]])\n",
    "\n",
    "y_pred_wfv = pd.Series(y_pred_list, index=y_test.index, name=\"prediction\")\n",
    "y_pred_wfv.index.name = \"timestamp\"\n",
    "y_pred_wfv.head()"
   ]
  },
  {
   "cell_type": "markdown",
   "id": "cfe6a89f",
   "metadata": {},
   "source": [
    "Calculates MAE:"
   ]
  },
  {
   "cell_type": "code",
   "execution_count": 24,
   "id": "ef31fae3",
   "metadata": {},
   "outputs": [
    {
     "name": "stdout",
     "output_type": "stream",
     "text": [
      "Test MAE (walk forward validation): 3.97\n"
     ]
    }
   ],
   "source": [
    "test_mae = mean_absolute_error(y_test, y_pred_wfv)\n",
    "print(\"Test MAE (walk forward validation):\", round(test_mae, 2))"
   ]
  },
  {
   "cell_type": "markdown",
   "id": "5d3f8171",
   "metadata": {},
   "source": [
    "# Commmunicate Results"
   ]
  },
  {
   "cell_type": "markdown",
   "id": "cd65d613",
   "metadata": {},
   "source": [
    "Plots <code>df_pred_test</code> using plotly express:"
   ]
  },
  {
   "cell_type": "code",
   "execution_count": 25,
   "id": "21057776",
   "metadata": {},
   "outputs": [
    {
     "data": {
      "application/vnd.plotly.v1+json": {
       "config": {
        "plotlyServerURL": "https://plot.ly"
       },
       "data": [
        {
         "hovertemplate": "variable=y_test<br>timestamp=%{x}<br>value=%{y}<extra></extra>",
         "legendgroup": "y_test",
         "line": {
          "color": "#636efa",
          "dash": "solid"
         },
         "marker": {
          "symbol": "circle"
         },
         "mode": "lines",
         "name": "y_test",
         "orientation": "v",
         "showlegend": true,
         "type": "scatter",
         "x": [
          "2018-03-23T03:00:00+03:00",
          "2018-03-23T04:00:00+03:00",
          "2018-03-23T05:00:00+03:00",
          "2018-03-23T06:00:00+03:00",
          "2018-03-23T07:00:00+03:00",
          "2018-03-23T08:00:00+03:00",
          "2018-03-23T09:00:00+03:00",
          "2018-03-23T10:00:00+03:00",
          "2018-03-23T11:00:00+03:00",
          "2018-03-23T12:00:00+03:00",
          "2018-03-23T13:00:00+03:00",
          "2018-03-23T14:00:00+03:00",
          "2018-03-23T15:00:00+03:00",
          "2018-03-23T16:00:00+03:00",
          "2018-03-23T17:00:00+03:00",
          "2018-03-23T18:00:00+03:00",
          "2018-03-23T19:00:00+03:00",
          "2018-03-23T20:00:00+03:00",
          "2018-03-23T21:00:00+03:00",
          "2018-03-23T22:00:00+03:00",
          "2018-03-23T23:00:00+03:00",
          "2018-03-24T00:00:00+03:00",
          "2018-03-24T01:00:00+03:00",
          "2018-03-24T02:00:00+03:00",
          "2018-03-24T03:00:00+03:00",
          "2018-03-24T04:00:00+03:00",
          "2018-03-24T05:00:00+03:00",
          "2018-03-24T06:00:00+03:00",
          "2018-03-24T07:00:00+03:00",
          "2018-03-24T08:00:00+03:00",
          "2018-03-24T09:00:00+03:00",
          "2018-03-24T10:00:00+03:00",
          "2018-03-24T11:00:00+03:00",
          "2018-03-24T12:00:00+03:00",
          "2018-03-24T13:00:00+03:00",
          "2018-03-24T14:00:00+03:00",
          "2018-03-24T15:00:00+03:00",
          "2018-03-24T16:00:00+03:00",
          "2018-03-24T17:00:00+03:00",
          "2018-03-24T18:00:00+03:00",
          "2018-03-24T19:00:00+03:00",
          "2018-03-24T20:00:00+03:00",
          "2018-03-24T21:00:00+03:00",
          "2018-03-24T22:00:00+03:00",
          "2018-03-24T23:00:00+03:00",
          "2018-03-25T00:00:00+03:00",
          "2018-03-25T01:00:00+03:00",
          "2018-03-25T02:00:00+03:00",
          "2018-03-25T03:00:00+03:00",
          "2018-03-25T04:00:00+03:00",
          "2018-03-25T05:00:00+03:00",
          "2018-03-25T06:00:00+03:00",
          "2018-03-25T07:00:00+03:00",
          "2018-03-25T08:00:00+03:00",
          "2018-03-25T09:00:00+03:00",
          "2018-03-25T10:00:00+03:00",
          "2018-03-25T11:00:00+03:00",
          "2018-03-25T12:00:00+03:00",
          "2018-03-25T13:00:00+03:00",
          "2018-03-25T14:00:00+03:00",
          "2018-03-25T15:00:00+03:00",
          "2018-03-25T16:00:00+03:00",
          "2018-03-25T17:00:00+03:00",
          "2018-03-25T18:00:00+03:00",
          "2018-03-25T19:00:00+03:00",
          "2018-03-25T20:00:00+03:00",
          "2018-03-25T21:00:00+03:00",
          "2018-03-25T22:00:00+03:00",
          "2018-03-25T23:00:00+03:00",
          "2018-03-26T00:00:00+03:00",
          "2018-03-26T01:00:00+03:00",
          "2018-03-26T02:00:00+03:00",
          "2018-03-26T03:00:00+03:00",
          "2018-03-26T04:00:00+03:00",
          "2018-03-26T05:00:00+03:00",
          "2018-03-26T06:00:00+03:00",
          "2018-03-26T07:00:00+03:00",
          "2018-03-26T08:00:00+03:00",
          "2018-03-26T09:00:00+03:00",
          "2018-03-26T10:00:00+03:00",
          "2018-03-26T11:00:00+03:00",
          "2018-03-26T12:00:00+03:00",
          "2018-03-26T13:00:00+03:00",
          "2018-03-26T14:00:00+03:00",
          "2018-03-26T15:00:00+03:00",
          "2018-03-26T16:00:00+03:00",
          "2018-03-26T17:00:00+03:00",
          "2018-03-26T18:00:00+03:00",
          "2018-03-26T19:00:00+03:00",
          "2018-03-26T20:00:00+03:00",
          "2018-03-26T21:00:00+03:00",
          "2018-03-26T22:00:00+03:00",
          "2018-03-26T23:00:00+03:00",
          "2018-03-27T00:00:00+03:00",
          "2018-03-27T01:00:00+03:00",
          "2018-03-27T02:00:00+03:00",
          "2018-03-27T03:00:00+03:00",
          "2018-03-27T04:00:00+03:00",
          "2018-03-27T05:00:00+03:00",
          "2018-03-27T06:00:00+03:00",
          "2018-03-27T07:00:00+03:00",
          "2018-03-27T08:00:00+03:00",
          "2018-03-27T09:00:00+03:00",
          "2018-03-27T10:00:00+03:00",
          "2018-03-27T11:00:00+03:00",
          "2018-03-27T12:00:00+03:00",
          "2018-03-27T13:00:00+03:00",
          "2018-03-27T14:00:00+03:00",
          "2018-03-27T15:00:00+03:00",
          "2018-03-27T16:00:00+03:00",
          "2018-03-27T17:00:00+03:00",
          "2018-03-27T18:00:00+03:00",
          "2018-03-27T19:00:00+03:00",
          "2018-03-27T20:00:00+03:00",
          "2018-03-27T21:00:00+03:00",
          "2018-03-27T22:00:00+03:00",
          "2018-03-27T23:00:00+03:00",
          "2018-03-28T00:00:00+03:00",
          "2018-03-28T01:00:00+03:00",
          "2018-03-28T02:00:00+03:00",
          "2018-03-28T03:00:00+03:00",
          "2018-03-28T04:00:00+03:00",
          "2018-03-28T05:00:00+03:00",
          "2018-03-28T06:00:00+03:00",
          "2018-03-28T07:00:00+03:00",
          "2018-03-28T08:00:00+03:00",
          "2018-03-28T09:00:00+03:00",
          "2018-03-28T10:00:00+03:00",
          "2018-03-28T11:00:00+03:00",
          "2018-03-28T12:00:00+03:00",
          "2018-03-28T13:00:00+03:00",
          "2018-03-28T14:00:00+03:00",
          "2018-03-28T15:00:00+03:00",
          "2018-03-28T16:00:00+03:00",
          "2018-03-28T17:00:00+03:00",
          "2018-03-28T18:00:00+03:00",
          "2018-03-28T19:00:00+03:00",
          "2018-03-28T20:00:00+03:00",
          "2018-03-28T21:00:00+03:00",
          "2018-03-28T22:00:00+03:00",
          "2018-03-28T23:00:00+03:00",
          "2018-03-29T00:00:00+03:00",
          "2018-03-29T01:00:00+03:00",
          "2018-03-29T02:00:00+03:00",
          "2018-03-29T03:00:00+03:00",
          "2018-03-29T04:00:00+03:00",
          "2018-03-29T05:00:00+03:00",
          "2018-03-29T06:00:00+03:00",
          "2018-03-29T07:00:00+03:00",
          "2018-03-29T08:00:00+03:00",
          "2018-03-29T09:00:00+03:00",
          "2018-03-29T10:00:00+03:00",
          "2018-03-29T11:00:00+03:00",
          "2018-03-29T12:00:00+03:00",
          "2018-03-29T13:00:00+03:00",
          "2018-03-29T14:00:00+03:00",
          "2018-03-29T15:00:00+03:00",
          "2018-03-29T16:00:00+03:00",
          "2018-03-29T17:00:00+03:00",
          "2018-03-29T18:00:00+03:00",
          "2018-03-29T19:00:00+03:00",
          "2018-03-29T20:00:00+03:00",
          "2018-03-29T21:00:00+03:00",
          "2018-03-29T22:00:00+03:00",
          "2018-03-29T23:00:00+03:00",
          "2018-03-30T00:00:00+03:00",
          "2018-03-30T01:00:00+03:00",
          "2018-03-30T02:00:00+03:00",
          "2018-03-30T03:00:00+03:00",
          "2018-03-30T04:00:00+03:00",
          "2018-03-30T05:00:00+03:00",
          "2018-03-30T06:00:00+03:00",
          "2018-03-30T07:00:00+03:00",
          "2018-03-30T08:00:00+03:00",
          "2018-03-30T09:00:00+03:00",
          "2018-03-30T10:00:00+03:00",
          "2018-03-30T11:00:00+03:00",
          "2018-03-30T12:00:00+03:00",
          "2018-03-30T13:00:00+03:00",
          "2018-03-30T14:00:00+03:00",
          "2018-03-30T15:00:00+03:00",
          "2018-03-30T16:00:00+03:00",
          "2018-03-30T17:00:00+03:00",
          "2018-03-30T18:00:00+03:00",
          "2018-03-30T19:00:00+03:00",
          "2018-03-30T20:00:00+03:00",
          "2018-03-30T21:00:00+03:00",
          "2018-03-30T22:00:00+03:00",
          "2018-03-30T23:00:00+03:00",
          "2018-03-31T00:00:00+03:00",
          "2018-03-31T01:00:00+03:00",
          "2018-03-31T02:00:00+03:00",
          "2018-03-31T03:00:00+03:00",
          "2018-03-31T04:00:00+03:00",
          "2018-03-31T05:00:00+03:00",
          "2018-03-31T06:00:00+03:00",
          "2018-03-31T07:00:00+03:00",
          "2018-03-31T08:00:00+03:00",
          "2018-03-31T09:00:00+03:00",
          "2018-03-31T10:00:00+03:00",
          "2018-03-31T11:00:00+03:00",
          "2018-03-31T12:00:00+03:00",
          "2018-03-31T13:00:00+03:00",
          "2018-03-31T14:00:00+03:00",
          "2018-03-31T15:00:00+03:00",
          "2018-03-31T16:00:00+03:00",
          "2018-03-31T17:00:00+03:00",
          "2018-03-31T18:00:00+03:00",
          "2018-03-31T19:00:00+03:00",
          "2018-03-31T20:00:00+03:00",
          "2018-03-31T21:00:00+03:00",
          "2018-03-31T22:00:00+03:00",
          "2018-03-31T23:00:00+03:00",
          "2018-04-01T00:00:00+03:00",
          "2018-04-01T01:00:00+03:00",
          "2018-04-01T02:00:00+03:00"
         ],
         "xaxis": "x",
         "y": {
          "bdata": "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",
          "dtype": "f8"
         },
         "yaxis": "y"
        },
        {
         "hovertemplate": "variable=y_pred_wfv<br>timestamp=%{x}<br>value=%{y}<extra></extra>",
         "legendgroup": "y_pred_wfv",
         "line": {
          "color": "#EF553B",
          "dash": "solid"
         },
         "marker": {
          "symbol": "circle"
         },
         "mode": "lines",
         "name": "y_pred_wfv",
         "orientation": "v",
         "showlegend": true,
         "type": "scatter",
         "x": [
          "2018-03-23T03:00:00+03:00",
          "2018-03-23T04:00:00+03:00",
          "2018-03-23T05:00:00+03:00",
          "2018-03-23T06:00:00+03:00",
          "2018-03-23T07:00:00+03:00",
          "2018-03-23T08:00:00+03:00",
          "2018-03-23T09:00:00+03:00",
          "2018-03-23T10:00:00+03:00",
          "2018-03-23T11:00:00+03:00",
          "2018-03-23T12:00:00+03:00",
          "2018-03-23T13:00:00+03:00",
          "2018-03-23T14:00:00+03:00",
          "2018-03-23T15:00:00+03:00",
          "2018-03-23T16:00:00+03:00",
          "2018-03-23T17:00:00+03:00",
          "2018-03-23T18:00:00+03:00",
          "2018-03-23T19:00:00+03:00",
          "2018-03-23T20:00:00+03:00",
          "2018-03-23T21:00:00+03:00",
          "2018-03-23T22:00:00+03:00",
          "2018-03-23T23:00:00+03:00",
          "2018-03-24T00:00:00+03:00",
          "2018-03-24T01:00:00+03:00",
          "2018-03-24T02:00:00+03:00",
          "2018-03-24T03:00:00+03:00",
          "2018-03-24T04:00:00+03:00",
          "2018-03-24T05:00:00+03:00",
          "2018-03-24T06:00:00+03:00",
          "2018-03-24T07:00:00+03:00",
          "2018-03-24T08:00:00+03:00",
          "2018-03-24T09:00:00+03:00",
          "2018-03-24T10:00:00+03:00",
          "2018-03-24T11:00:00+03:00",
          "2018-03-24T12:00:00+03:00",
          "2018-03-24T13:00:00+03:00",
          "2018-03-24T14:00:00+03:00",
          "2018-03-24T15:00:00+03:00",
          "2018-03-24T16:00:00+03:00",
          "2018-03-24T17:00:00+03:00",
          "2018-03-24T18:00:00+03:00",
          "2018-03-24T19:00:00+03:00",
          "2018-03-24T20:00:00+03:00",
          "2018-03-24T21:00:00+03:00",
          "2018-03-24T22:00:00+03:00",
          "2018-03-24T23:00:00+03:00",
          "2018-03-25T00:00:00+03:00",
          "2018-03-25T01:00:00+03:00",
          "2018-03-25T02:00:00+03:00",
          "2018-03-25T03:00:00+03:00",
          "2018-03-25T04:00:00+03:00",
          "2018-03-25T05:00:00+03:00",
          "2018-03-25T06:00:00+03:00",
          "2018-03-25T07:00:00+03:00",
          "2018-03-25T08:00:00+03:00",
          "2018-03-25T09:00:00+03:00",
          "2018-03-25T10:00:00+03:00",
          "2018-03-25T11:00:00+03:00",
          "2018-03-25T12:00:00+03:00",
          "2018-03-25T13:00:00+03:00",
          "2018-03-25T14:00:00+03:00",
          "2018-03-25T15:00:00+03:00",
          "2018-03-25T16:00:00+03:00",
          "2018-03-25T17:00:00+03:00",
          "2018-03-25T18:00:00+03:00",
          "2018-03-25T19:00:00+03:00",
          "2018-03-25T20:00:00+03:00",
          "2018-03-25T21:00:00+03:00",
          "2018-03-25T22:00:00+03:00",
          "2018-03-25T23:00:00+03:00",
          "2018-03-26T00:00:00+03:00",
          "2018-03-26T01:00:00+03:00",
          "2018-03-26T02:00:00+03:00",
          "2018-03-26T03:00:00+03:00",
          "2018-03-26T04:00:00+03:00",
          "2018-03-26T05:00:00+03:00",
          "2018-03-26T06:00:00+03:00",
          "2018-03-26T07:00:00+03:00",
          "2018-03-26T08:00:00+03:00",
          "2018-03-26T09:00:00+03:00",
          "2018-03-26T10:00:00+03:00",
          "2018-03-26T11:00:00+03:00",
          "2018-03-26T12:00:00+03:00",
          "2018-03-26T13:00:00+03:00",
          "2018-03-26T14:00:00+03:00",
          "2018-03-26T15:00:00+03:00",
          "2018-03-26T16:00:00+03:00",
          "2018-03-26T17:00:00+03:00",
          "2018-03-26T18:00:00+03:00",
          "2018-03-26T19:00:00+03:00",
          "2018-03-26T20:00:00+03:00",
          "2018-03-26T21:00:00+03:00",
          "2018-03-26T22:00:00+03:00",
          "2018-03-26T23:00:00+03:00",
          "2018-03-27T00:00:00+03:00",
          "2018-03-27T01:00:00+03:00",
          "2018-03-27T02:00:00+03:00",
          "2018-03-27T03:00:00+03:00",
          "2018-03-27T04:00:00+03:00",
          "2018-03-27T05:00:00+03:00",
          "2018-03-27T06:00:00+03:00",
          "2018-03-27T07:00:00+03:00",
          "2018-03-27T08:00:00+03:00",
          "2018-03-27T09:00:00+03:00",
          "2018-03-27T10:00:00+03:00",
          "2018-03-27T11:00:00+03:00",
          "2018-03-27T12:00:00+03:00",
          "2018-03-27T13:00:00+03:00",
          "2018-03-27T14:00:00+03:00",
          "2018-03-27T15:00:00+03:00",
          "2018-03-27T16:00:00+03:00",
          "2018-03-27T17:00:00+03:00",
          "2018-03-27T18:00:00+03:00",
          "2018-03-27T19:00:00+03:00",
          "2018-03-27T20:00:00+03:00",
          "2018-03-27T21:00:00+03:00",
          "2018-03-27T22:00:00+03:00",
          "2018-03-27T23:00:00+03:00",
          "2018-03-28T00:00:00+03:00",
          "2018-03-28T01:00:00+03:00",
          "2018-03-28T02:00:00+03:00",
          "2018-03-28T03:00:00+03:00",
          "2018-03-28T04:00:00+03:00",
          "2018-03-28T05:00:00+03:00",
          "2018-03-28T06:00:00+03:00",
          "2018-03-28T07:00:00+03:00",
          "2018-03-28T08:00:00+03:00",
          "2018-03-28T09:00:00+03:00",
          "2018-03-28T10:00:00+03:00",
          "2018-03-28T11:00:00+03:00",
          "2018-03-28T12:00:00+03:00",
          "2018-03-28T13:00:00+03:00",
          "2018-03-28T14:00:00+03:00",
          "2018-03-28T15:00:00+03:00",
          "2018-03-28T16:00:00+03:00",
          "2018-03-28T17:00:00+03:00",
          "2018-03-28T18:00:00+03:00",
          "2018-03-28T19:00:00+03:00",
          "2018-03-28T20:00:00+03:00",
          "2018-03-28T21:00:00+03:00",
          "2018-03-28T22:00:00+03:00",
          "2018-03-28T23:00:00+03:00",
          "2018-03-29T00:00:00+03:00",
          "2018-03-29T01:00:00+03:00",
          "2018-03-29T02:00:00+03:00",
          "2018-03-29T03:00:00+03:00",
          "2018-03-29T04:00:00+03:00",
          "2018-03-29T05:00:00+03:00",
          "2018-03-29T06:00:00+03:00",
          "2018-03-29T07:00:00+03:00",
          "2018-03-29T08:00:00+03:00",
          "2018-03-29T09:00:00+03:00",
          "2018-03-29T10:00:00+03:00",
          "2018-03-29T11:00:00+03:00",
          "2018-03-29T12:00:00+03:00",
          "2018-03-29T13:00:00+03:00",
          "2018-03-29T14:00:00+03:00",
          "2018-03-29T15:00:00+03:00",
          "2018-03-29T16:00:00+03:00",
          "2018-03-29T17:00:00+03:00",
          "2018-03-29T18:00:00+03:00",
          "2018-03-29T19:00:00+03:00",
          "2018-03-29T20:00:00+03:00",
          "2018-03-29T21:00:00+03:00",
          "2018-03-29T22:00:00+03:00",
          "2018-03-29T23:00:00+03:00",
          "2018-03-30T00:00:00+03:00",
          "2018-03-30T01:00:00+03:00",
          "2018-03-30T02:00:00+03:00",
          "2018-03-30T03:00:00+03:00",
          "2018-03-30T04:00:00+03:00",
          "2018-03-30T05:00:00+03:00",
          "2018-03-30T06:00:00+03:00",
          "2018-03-30T07:00:00+03:00",
          "2018-03-30T08:00:00+03:00",
          "2018-03-30T09:00:00+03:00",
          "2018-03-30T10:00:00+03:00",
          "2018-03-30T11:00:00+03:00",
          "2018-03-30T12:00:00+03:00",
          "2018-03-30T13:00:00+03:00",
          "2018-03-30T14:00:00+03:00",
          "2018-03-30T15:00:00+03:00",
          "2018-03-30T16:00:00+03:00",
          "2018-03-30T17:00:00+03:00",
          "2018-03-30T18:00:00+03:00",
          "2018-03-30T19:00:00+03:00",
          "2018-03-30T20:00:00+03:00",
          "2018-03-30T21:00:00+03:00",
          "2018-03-30T22:00:00+03:00",
          "2018-03-30T23:00:00+03:00",
          "2018-03-31T00:00:00+03:00",
          "2018-03-31T01:00:00+03:00",
          "2018-03-31T02:00:00+03:00",
          "2018-03-31T03:00:00+03:00",
          "2018-03-31T04:00:00+03:00",
          "2018-03-31T05:00:00+03:00",
          "2018-03-31T06:00:00+03:00",
          "2018-03-31T07:00:00+03:00",
          "2018-03-31T08:00:00+03:00",
          "2018-03-31T09:00:00+03:00",
          "2018-03-31T10:00:00+03:00",
          "2018-03-31T11:00:00+03:00",
          "2018-03-31T12:00:00+03:00",
          "2018-03-31T13:00:00+03:00",
          "2018-03-31T14:00:00+03:00",
          "2018-03-31T15:00:00+03:00",
          "2018-03-31T16:00:00+03:00",
          "2018-03-31T17:00:00+03:00",
          "2018-03-31T18:00:00+03:00",
          "2018-03-31T19:00:00+03:00",
          "2018-03-31T20:00:00+03:00",
          "2018-03-31T21:00:00+03:00",
          "2018-03-31T22:00:00+03:00",
          "2018-03-31T23:00:00+03:00",
          "2018-04-01T00:00:00+03:00",
          "2018-04-01T01:00:00+03:00",
          "2018-04-01T02:00:00+03:00"
         ],
         "xaxis": "x",
         "y": {
          "bdata": "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",
          "dtype": "f8"
         },
         "yaxis": "y"
        }
       ],
       "layout": {
        "legend": {
         "title": {
          "text": "variable"
         },
         "tracegroupgap": 0
        },
        "margin": {
         "t": 60
        },
        "template": {
         "data": {
          "bar": [
           {
            "error_x": {
             "color": "#2a3f5f"
            },
            "error_y": {
             "color": "#2a3f5f"
            },
            "marker": {
             "line": {
              "color": "#E5ECF6",
              "width": 0.5
             },
             "pattern": {
              "fillmode": "overlay",
              "size": 10,
              "solidity": 0.2
             }
            },
            "type": "bar"
           }
          ],
          "barpolar": [
           {
            "marker": {
             "line": {
              "color": "#E5ECF6",
              "width": 0.5
             },
             "pattern": {
              "fillmode": "overlay",
              "size": 10,
              "solidity": 0.2
             }
            },
            "type": "barpolar"
           }
          ],
          "carpet": [
           {
            "aaxis": {
             "endlinecolor": "#2a3f5f",
             "gridcolor": "white",
             "linecolor": "white",
             "minorgridcolor": "white",
             "startlinecolor": "#2a3f5f"
            },
            "baxis": {
             "endlinecolor": "#2a3f5f",
             "gridcolor": "white",
             "linecolor": "white",
             "minorgridcolor": "white",
             "startlinecolor": "#2a3f5f"
            },
            "type": "carpet"
           }
          ],
          "choropleth": [
           {
            "colorbar": {
             "outlinewidth": 0,
             "ticks": ""
            },
            "type": "choropleth"
           }
          ],
          "contour": [
           {
            "colorbar": {
             "outlinewidth": 0,
             "ticks": ""
            },
            "colorscale": [
             [
              0,
              "#0d0887"
             ],
             [
              0.1111111111111111,
              "#46039f"
             ],
             [
              0.2222222222222222,
              "#7201a8"
             ],
             [
              0.3333333333333333,
              "#9c179e"
             ],
             [
              0.4444444444444444,
              "#bd3786"
             ],
             [
              0.5555555555555556,
              "#d8576b"
             ],
             [
              0.6666666666666666,
              "#ed7953"
             ],
             [
              0.7777777777777778,
              "#fb9f3a"
             ],
             [
              0.8888888888888888,
              "#fdca26"
             ],
             [
              1,
              "#f0f921"
             ]
            ],
            "type": "contour"
           }
          ],
          "contourcarpet": [
           {
            "colorbar": {
             "outlinewidth": 0,
             "ticks": ""
            },
            "type": "contourcarpet"
           }
          ],
          "heatmap": [
           {
            "colorbar": {
             "outlinewidth": 0,
             "ticks": ""
            },
            "colorscale": [
             [
              0,
              "#0d0887"
             ],
             [
              0.1111111111111111,
              "#46039f"
             ],
             [
              0.2222222222222222,
              "#7201a8"
             ],
             [
              0.3333333333333333,
              "#9c179e"
             ],
             [
              0.4444444444444444,
              "#bd3786"
             ],
             [
              0.5555555555555556,
              "#d8576b"
             ],
             [
              0.6666666666666666,
              "#ed7953"
             ],
             [
              0.7777777777777778,
              "#fb9f3a"
             ],
             [
              0.8888888888888888,
              "#fdca26"
             ],
             [
              1,
              "#f0f921"
             ]
            ],
            "type": "heatmap"
           }
          ],
          "histogram": [
           {
            "marker": {
             "pattern": {
              "fillmode": "overlay",
              "size": 10,
              "solidity": 0.2
             }
            },
            "type": "histogram"
           }
          ],
          "histogram2d": [
           {
            "colorbar": {
             "outlinewidth": 0,
             "ticks": ""
            },
            "colorscale": [
             [
              0,
              "#0d0887"
             ],
             [
              0.1111111111111111,
              "#46039f"
             ],
             [
              0.2222222222222222,
              "#7201a8"
             ],
             [
              0.3333333333333333,
              "#9c179e"
             ],
             [
              0.4444444444444444,
              "#bd3786"
             ],
             [
              0.5555555555555556,
              "#d8576b"
             ],
             [
              0.6666666666666666,
              "#ed7953"
             ],
             [
              0.7777777777777778,
              "#fb9f3a"
             ],
             [
              0.8888888888888888,
              "#fdca26"
             ],
             [
              1,
              "#f0f921"
             ]
            ],
            "type": "histogram2d"
           }
          ],
          "histogram2dcontour": [
           {
            "colorbar": {
             "outlinewidth": 0,
             "ticks": ""
            },
            "colorscale": [
             [
              0,
              "#0d0887"
             ],
             [
              0.1111111111111111,
              "#46039f"
             ],
             [
              0.2222222222222222,
              "#7201a8"
             ],
             [
              0.3333333333333333,
              "#9c179e"
             ],
             [
              0.4444444444444444,
              "#bd3786"
             ],
             [
              0.5555555555555556,
              "#d8576b"
             ],
             [
              0.6666666666666666,
              "#ed7953"
             ],
             [
              0.7777777777777778,
              "#fb9f3a"
             ],
             [
              0.8888888888888888,
              "#fdca26"
             ],
             [
              1,
              "#f0f921"
             ]
            ],
            "type": "histogram2dcontour"
           }
          ],
          "mesh3d": [
           {
            "colorbar": {
             "outlinewidth": 0,
             "ticks": ""
            },
            "type": "mesh3d"
           }
          ],
          "parcoords": [
           {
            "line": {
             "colorbar": {
              "outlinewidth": 0,
              "ticks": ""
             }
            },
            "type": "parcoords"
           }
          ],
          "pie": [
           {
            "automargin": true,
            "type": "pie"
           }
          ],
          "scatter": [
           {
            "fillpattern": {
             "fillmode": "overlay",
             "size": 10,
             "solidity": 0.2
            },
            "type": "scatter"
           }
          ],
          "scatter3d": [
           {
            "line": {
             "colorbar": {
              "outlinewidth": 0,
              "ticks": ""
             }
            },
            "marker": {
             "colorbar": {
              "outlinewidth": 0,
              "ticks": ""
             }
            },
            "type": "scatter3d"
           }
          ],
          "scattercarpet": [
           {
            "marker": {
             "colorbar": {
              "outlinewidth": 0,
              "ticks": ""
             }
            },
            "type": "scattercarpet"
           }
          ],
          "scattergeo": [
           {
            "marker": {
             "colorbar": {
              "outlinewidth": 0,
              "ticks": ""
             }
            },
            "type": "scattergeo"
           }
          ],
          "scattergl": [
           {
            "marker": {
             "colorbar": {
              "outlinewidth": 0,
              "ticks": ""
             }
            },
            "type": "scattergl"
           }
          ],
          "scattermap": [
           {
            "marker": {
             "colorbar": {
              "outlinewidth": 0,
              "ticks": ""
             }
            },
            "type": "scattermap"
           }
          ],
          "scattermapbox": [
           {
            "marker": {
             "colorbar": {
              "outlinewidth": 0,
              "ticks": ""
             }
            },
            "type": "scattermapbox"
           }
          ],
          "scatterpolar": [
           {
            "marker": {
             "colorbar": {
              "outlinewidth": 0,
              "ticks": ""
             }
            },
            "type": "scatterpolar"
           }
          ],
          "scatterpolargl": [
           {
            "marker": {
             "colorbar": {
              "outlinewidth": 0,
              "ticks": ""
             }
            },
            "type": "scatterpolargl"
           }
          ],
          "scatterternary": [
           {
            "marker": {
             "colorbar": {
              "outlinewidth": 0,
              "ticks": ""
             }
            },
            "type": "scatterternary"
           }
          ],
          "surface": [
           {
            "colorbar": {
             "outlinewidth": 0,
             "ticks": ""
            },
            "colorscale": [
             [
              0,
              "#0d0887"
             ],
             [
              0.1111111111111111,
              "#46039f"
             ],
             [
              0.2222222222222222,
              "#7201a8"
             ],
             [
              0.3333333333333333,
              "#9c179e"
             ],
             [
              0.4444444444444444,
              "#bd3786"
             ],
             [
              0.5555555555555556,
              "#d8576b"
             ],
             [
              0.6666666666666666,
              "#ed7953"
             ],
             [
              0.7777777777777778,
              "#fb9f3a"
             ],
             [
              0.8888888888888888,
              "#fdca26"
             ],
             [
              1,
              "#f0f921"
             ]
            ],
            "type": "surface"
           }
          ],
          "table": [
           {
            "cells": {
             "fill": {
              "color": "#EBF0F8"
             },
             "line": {
              "color": "white"
             }
            },
            "header": {
             "fill": {
              "color": "#C8D4E3"
             },
             "line": {
              "color": "white"
             }
            },
            "type": "table"
           }
          ]
         },
         "layout": {
          "annotationdefaults": {
           "arrowcolor": "#2a3f5f",
           "arrowhead": 0,
           "arrowwidth": 1
          },
          "autotypenumbers": "strict",
          "coloraxis": {
           "colorbar": {
            "outlinewidth": 0,
            "ticks": ""
           }
          },
          "colorscale": {
           "diverging": [
            [
             0,
             "#8e0152"
            ],
            [
             0.1,
             "#c51b7d"
            ],
            [
             0.2,
             "#de77ae"
            ],
            [
             0.3,
             "#f1b6da"
            ],
            [
             0.4,
             "#fde0ef"
            ],
            [
             0.5,
             "#f7f7f7"
            ],
            [
             0.6,
             "#e6f5d0"
            ],
            [
             0.7,
             "#b8e186"
            ],
            [
             0.8,
             "#7fbc41"
            ],
            [
             0.9,
             "#4d9221"
            ],
            [
             1,
             "#276419"
            ]
           ],
           "sequential": [
            [
             0,
             "#0d0887"
            ],
            [
             0.1111111111111111,
             "#46039f"
            ],
            [
             0.2222222222222222,
             "#7201a8"
            ],
            [
             0.3333333333333333,
             "#9c179e"
            ],
            [
             0.4444444444444444,
             "#bd3786"
            ],
            [
             0.5555555555555556,
             "#d8576b"
            ],
            [
             0.6666666666666666,
             "#ed7953"
            ],
            [
             0.7777777777777778,
             "#fb9f3a"
            ],
            [
             0.8888888888888888,
             "#fdca26"
            ],
            [
             1,
             "#f0f921"
            ]
           ],
           "sequentialminus": [
            [
             0,
             "#0d0887"
            ],
            [
             0.1111111111111111,
             "#46039f"
            ],
            [
             0.2222222222222222,
             "#7201a8"
            ],
            [
             0.3333333333333333,
             "#9c179e"
            ],
            [
             0.4444444444444444,
             "#bd3786"
            ],
            [
             0.5555555555555556,
             "#d8576b"
            ],
            [
             0.6666666666666666,
             "#ed7953"
            ],
            [
             0.7777777777777778,
             "#fb9f3a"
            ],
            [
             0.8888888888888888,
             "#fdca26"
            ],
            [
             1,
             "#f0f921"
            ]
           ]
          },
          "colorway": [
           "#636efa",
           "#EF553B",
           "#00cc96",
           "#ab63fa",
           "#FFA15A",
           "#19d3f3",
           "#FF6692",
           "#B6E880",
           "#FF97FF",
           "#FECB52"
          ],
          "font": {
           "color": "#2a3f5f"
          },
          "geo": {
           "bgcolor": "white",
           "lakecolor": "white",
           "landcolor": "#E5ECF6",
           "showlakes": true,
           "showland": true,
           "subunitcolor": "white"
          },
          "hoverlabel": {
           "align": "left"
          },
          "hovermode": "closest",
          "mapbox": {
           "style": "light"
          },
          "paper_bgcolor": "white",
          "plot_bgcolor": "#E5ECF6",
          "polar": {
           "angularaxis": {
            "gridcolor": "white",
            "linecolor": "white",
            "ticks": ""
           },
           "bgcolor": "#E5ECF6",
           "radialaxis": {
            "gridcolor": "white",
            "linecolor": "white",
            "ticks": ""
           }
          },
          "scene": {
           "xaxis": {
            "backgroundcolor": "#E5ECF6",
            "gridcolor": "white",
            "gridwidth": 2,
            "linecolor": "white",
            "showbackground": true,
            "ticks": "",
            "zerolinecolor": "white"
           },
           "yaxis": {
            "backgroundcolor": "#E5ECF6",
            "gridcolor": "white",
            "gridwidth": 2,
            "linecolor": "white",
            "showbackground": true,
            "ticks": "",
            "zerolinecolor": "white"
           },
           "zaxis": {
            "backgroundcolor": "#E5ECF6",
            "gridcolor": "white",
            "gridwidth": 2,
            "linecolor": "white",
            "showbackground": true,
            "ticks": "",
            "zerolinecolor": "white"
           }
          },
          "shapedefaults": {
           "line": {
            "color": "#2a3f5f"
           }
          },
          "ternary": {
           "aaxis": {
            "gridcolor": "white",
            "linecolor": "white",
            "ticks": ""
           },
           "baxis": {
            "gridcolor": "white",
            "linecolor": "white",
            "ticks": ""
           },
           "bgcolor": "#E5ECF6",
           "caxis": {
            "gridcolor": "white",
            "linecolor": "white",
            "ticks": ""
           }
          },
          "title": {
           "x": 0.05
          },
          "xaxis": {
           "automargin": true,
           "gridcolor": "white",
           "linecolor": "white",
           "ticks": "",
           "title": {
            "standoff": 15
           },
           "zerolinecolor": "white",
           "zerolinewidth": 2
          },
          "yaxis": {
           "automargin": true,
           "gridcolor": "white",
           "linecolor": "white",
           "ticks": "",
           "title": {
            "standoff": 15
           },
           "zerolinecolor": "white",
           "zerolinewidth": 2
          }
         }
        },
        "title": {
         "text": "Dar es Salaam, WFV Predictions"
        },
        "xaxis": {
         "anchor": "y",
         "domain": [
          0,
          1
         ],
         "title": {
          "text": "Date"
         }
        },
        "yaxis": {
         "anchor": "x",
         "domain": [
          0,
          1
         ],
         "title": {
          "text": "PM2.5 Level"
         }
        }
       }
      }
     },
     "metadata": {},
     "output_type": "display_data"
    }
   ],
   "source": [
    "df_pred_test = pd.DataFrame({\"y_test\": y_test, \"y_pred_wfv\": y_pred_wfv}, index=y_test.index)\n",
    "fig = px.line(df_pred_test)\n",
    "fig.update_layout(\n",
    "    title=\"Dar es Salaam, WFV Predictions\",\n",
    "    xaxis_title=\"Date\",\n",
    "    yaxis_title=\"PM2.5 Level\",\n",
    ");\n",
    "\n",
    "fig.update_layout()\n",
    "fig.show()"
   ]
  }
 ],
 "metadata": {
  "kernelspec": {
   "display_name": "myenv",
   "language": "python",
   "name": "python3"
  },
  "language_info": {
   "codemirror_mode": {
    "name": "ipython",
    "version": 3
   },
   "file_extension": ".py",
   "mimetype": "text/x-python",
   "name": "python",
   "nbconvert_exporter": "python",
   "pygments_lexer": "ipython3",
   "version": "3.13.2"
  }
 },
 "nbformat": 4,
 "nbformat_minor": 5
}
